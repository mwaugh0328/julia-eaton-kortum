{
 "cells": [
  {
   "cell_type": "code",
   "execution_count": 2,
   "id": "f5a2827d-4b61-49b8-a416-bc60729e496d",
   "metadata": {},
   "outputs": [],
   "source": [
    "using BenchmarkTools\n",
    "using LinearAlgebra, Statistics\n",
    "using Plots\n",
    "using Random, Distributions\n",
    "gr(fmt=:png); # setting for easier display in jupyter notebooks"
   ]
  },
  {
   "cell_type": "markdown",
   "id": "1a2402e7-bb9f-488d-955f-d8596be84e19",
   "metadata": {},
   "source": [
    "**Introduction**\n",
    "\n",
    "I'm teaching myself ``julia``. The simplest way for me todo so is to work with a model that I know extremely well---the Ricardian model of Eaton and Kortum (2002). So below I will outline the economic environment and then use the properties of ``julia`` to map the fundemental, mathematical enviorment into a computational/quantitative outcome. Outside of performance properties, the more I reflect on this, this is a huge appeal of the ``julia`` language. In contrast, in for example MATLAB, the map from white board to computation is big.\n",
    "\n",
    "---\n",
    "\n",
    "**Countries.** To keep things simple, let's firs work with a simple two country set up---a home and a foreign country. \n",
    "\n",
    "**Individual Goods Production.**\n",
    "Within a country, there is a continuum of intermediate goods indexed by $\\omega \\in [0, 1]$. As in the Ricardian model of \\citet{dornbusch1977comparative} and \\citet{eaton2002technology}, intermediate goods are not nationally differentiated. Thus, intermediate $\\omega$ produced in one country is a perfect substitute for the same intermediate $\\omega$ produced by another country. Competitive firms produce intermediate goods with linear production technologies,\n",
    "\\begin{align}\n",
    "q(\\omega) = z(\\omega) \\ell,\n",
    "\\end{align}\n",
    "where $z$ is the productivity level of firms and $\\ell$ is the number of efficiency units of labor. "
   ]
  },
  {
   "cell_type": "markdown",
   "id": "2605aa22-7127-445a-b832-cd78c293db60",
   "metadata": {},
   "source": [
    "**The Aggregator** In this model, intermediate goods are aggregated by a competitive final-goods producer. In Julia, what would be interesting is to make the aggregator generic and let the user specify how this works. But for know, we will follow the canonical situation with  who has a standard CES production function:\n",
    "\n",
    "\\begin{align}\n",
    "Q = \\left[ \\int_0^1 q(\\omega)^{\\frac{\\sigma - 1}{\\sigma}} d\\omega \\right]^{\\frac{\\sigma}{\\sigma - 1}},\n",
    "\\label{eq:ces}\n",
    "\\end{align}\n",
    "\n",
    "where $q(\\omega)$ is the quantity of individual intermediate goods $\\omega$ demanded by the final-goods firm, and $\\sigma$ is elasticity of substitution across variety. I want to talk through some properties/definitions related to this aggregator.\n",
    "\n",
    "- The aggregator in (\\ref{eq:ces}) gives rise to the following the demand curve (in quantities) for an individual variety:\n",
    "\n",
    "\\begin{align}\n",
    "q(\\omega) & = \\left(\\frac{p_h(\\omega)}{P_h}\\right)^{-\\sigma}Q.\n",
    "\\label{eq:demand_curve}\n",
    "\\end{align}\n",
    "\n",
    "where $Q$ is the aggregate demand for the final good; $P_h$ is the CES price index, defined below; And $p_h(\\omega)$ is the price paid by the home country for good $\\omega$ (which is not the same necessarily as the price offered by a home country supplier.\n",
    "\n",
    "- The demand curve can also be expressed in shares, not quantities. So\n",
    "\n",
    "\\begin{align}\n",
    "\\frac{p_h(\\omega)q(\\omega)}{P_h Q} & = \\left(\\frac{p_h(\\omega)}{P_h}\\right)^{1-\\sigma}.\n",
    "\\label{eq:demand_curve_share}\n",
    "\\end{align}\n",
    "\n",
    "which says that the value of of good $\\omega$ relative to total expenditures $P_h Q$ is given by the formula above. This helps as we can compute expenditure patterns while being agnostic about the actual size of the economy, i.e. $Q$. One useful relationship that builds on this is to condition on the source and aggregate to arrive at the share of goods purchased from another country. How does this work? \n",
    "\n",
    "\\begin{align}\n",
    "\\pi_{h,f} = \\int_{p_h = p_{h,f}} \\left(\\frac{p_h(\\omega)}{P_h}\\right)^{1-\\sigma} d\\omega\n",
    "\\end{align}\n",
    "\n",
    "Where the notation here $\\pi_{h,f}$ is the share of goods that the home country sources from the foreign country. This is equal do the integral over all goods purchased from them, hence, the conditioning where $p_h = p_{h,f}$ and then the inside of the brackets is the same as above. Easy.\n",
    "\n",
    "- The **CES Price Index** is given by\n",
    "\n",
    "\\begin{align}\n",
    "P_h  = \\left [ \\int_{0}^{1} p_h(\\omega)^{1-\\sigma} d\\omega \\right]^{\\frac{1}{1-\\sigma}}\n",
    "\\label{eq:ces_price_index}\n",
    "\\end{align}\n",
    "\n",
    "which takes all the prices at the micro-level and the is like a harmonic mean of these prices. Also note how one can substitute \\ref{eq:ces_price_index} into the share formula to get an expression of expenditures shares purely in terms of micro-level prices."
   ]
  },
  {
   "cell_type": "code",
   "execution_count": 184,
   "id": "6da47872-4f1f-416b-8721-fe75365f10ae",
   "metadata": {},
   "outputs": [
    {
     "data": {
      "text/plain": [
       "ces_shares (generic function with 4 methods)"
      ]
     },
     "execution_count": 184,
     "metadata": {},
     "output_type": "execute_result"
    }
   ],
   "source": [
    "function ces_shares(p::Matrix{Float64}, source_country::Matrix{CartesianIndex{2}}, σ::Float64)\n",
    "    # this will take in (i) prices purchased at and\n",
    "    # a cartesian index that can determine country supplier\n",
    "    # then a parameter for the CES aggregator.\n",
    "    # I'm toying around with explicity typing here. Any thoughts?\n",
    "    # When presented this way. One can see how any arbitrary aggregator could be put in place.\n",
    "    \n",
    "    ngoods = length(p) # number of goods\n",
    "    \n",
    "    ncntry = ndims(source_country) # number of coutnries\n",
    "    \n",
    "    price_index = ( sum(p.^(1-σ)) / ngoods )^(1/(1-σ)) # CES price index\n",
    "    \n",
    "    # now construct the shares...\n",
    "    trade_shares = zeros(ncntry)\n",
    "    \n",
    "    source_prob = zeros(ncntry)\n",
    "    \n",
    "    for cntry = 1:ncntry\n",
    "        # This is the loop that conditions on the source country\n",
    "        # first fix a country...\n",
    "\n",
    "        supplier = [ zzz[2] == cntry for zzz in source_country ]\n",
    "        # this is then a simple inline expression saying, for each \n",
    "        # index in the source country, which onex zzz[2] are equall \n",
    "        # to the country of origin...\n",
    "        \n",
    "        source_prob[cntry] = sum(supplier) / ngoods\n",
    "        # This will compute the simple probability of being the low cost \n",
    "        # supplier. In the Frechet model = trade share. Alternative distributional\n",
    "        # assumptions will deliver something different.\n",
    "        \n",
    "        trade_shares[cntry] = sum((p[supplier]./price_index).^(1-σ)) / ngoods\n",
    "        \n",
    "    end\n",
    "        \n",
    "    return price_index, trade_shares, source_prob\n",
    "\n",
    "end"
   ]
  },
  {
   "cell_type": "code",
   "execution_count": 183,
   "id": "7f2edee1-1416-4974-b9c0-df4c6e238112",
   "metadata": {},
   "outputs": [
    {
     "data": {
      "text/plain": [
       "marginal_cost (generic function with 1 method)"
      ]
     },
     "execution_count": 183,
     "metadata": {},
     "output_type": "execute_result"
    }
   ],
   "source": [
    "function marginal_cost(z::AbstractArray, τ::AbstractArray)\n",
    "    return τ./z\n",
    "end"
   ]
  },
  {
   "cell_type": "code",
   "execution_count": 168,
   "id": "b0cd7d1e-4c05-4343-9159-dd29bf2da36c",
   "metadata": {},
   "outputs": [
    {
     "data": {
      "text/plain": [
       "Frechet{Float64}(α=4.0, θ=1.0)"
      ]
     },
     "execution_count": 168,
     "metadata": {},
     "output_type": "execute_result"
    }
   ],
   "source": [
    "T  = 1\n",
    "θ = 4\n",
    "d = Frechet(θ, T)"
   ]
  },
  {
   "cell_type": "code",
   "execution_count": 181,
   "id": "2bee7c29-3333-4bbf-b9f0-5696981801e2",
   "metadata": {},
   "outputs": [],
   "source": [
    "tau_matrix = [1 1.5; 1.5 1]\n",
    "\n",
    "ncntry = ndims(tau_matrix)\n",
    "\n",
    "z = rand(d, 1000000, ncntry);\n",
    "\n",
    "price_index = zeros(ncntry)\n",
    "shares = shares = zeros(ncntry,ncntry)\n",
    "\n",
    "for cntry = 1:ncntry\n",
    "\n",
    "    p, source_country = findmin(marginal_cost(z,tau_matrix[cntry,:]'); dims = 2);\n",
    "    # find the min over marginal costs\n",
    "    # note that the tau_matrix returns a vector, not a row vector as I was anticipating\n",
    "    # so take the transpose to make it work.\n",
    "\n",
    "    (price_index[cntry], shares[cntry,:]) = ces_shares(p, source_country, 2.0);\n",
    "    # then this is set up so the row is the buyer...then you go across the columns\n",
    "    # and that is share of goods the home country buys from that country.\n",
    "    \n",
    "end"
   ]
  },
  {
   "cell_type": "code",
   "execution_count": 187,
   "id": "b24310d9-9d15-4b5f-9fdb-8dc384b87be8",
   "metadata": {},
   "outputs": [
    {
     "data": {
      "text/plain": [
       "2×2 Matrix{Float64}:\n",
       " 0.835197  0.164803\n",
       " 0.165262  0.834738"
      ]
     },
     "execution_count": 187,
     "metadata": {},
     "output_type": "execute_result"
    }
   ],
   "source": [
    "shares"
   ]
  },
  {
   "cell_type": "code",
   "execution_count": 174,
   "id": "00eaab65-d25c-4ba8-8e73-cd9b9bec133e",
   "metadata": {},
   "outputs": [
    {
     "data": {
      "text/plain": [
       "1×2 adjoint(::Vector{Float64}) with eltype Float64:\n",
       " 1.0  1.5"
      ]
     },
     "execution_count": 174,
     "metadata": {},
     "output_type": "execute_result"
    }
   ],
   "source": [
    "tau_matrix[1,:]'"
   ]
  },
  {
   "cell_type": "code",
   "execution_count": 145,
   "id": "378b1fa6-1373-4b9e-9762-81637d294148",
   "metadata": {},
   "outputs": [
    {
     "data": {
      "text/plain": [
       "2×2 Matrix{Float64}:\n",
       " 1.0  1.5\n",
       " 1.5  1.0"
      ]
     },
     "execution_count": 145,
     "metadata": {},
     "output_type": "execute_result"
    }
   ],
   "source": [
    "tau_matrix = [1 1.5; 1.5 1]"
   ]
  },
  {
   "cell_type": "code",
   "execution_count": 177,
   "id": "f6c35d50-8435-4586-b74f-5e15569de6f2",
   "metadata": {},
   "outputs": [
    {
     "data": {
      "text/plain": [
       "2×2 Matrix{Float64}:\n",
       " 0.0  0.0\n",
       " 0.0  0.0"
      ]
     },
     "execution_count": 177,
     "metadata": {},
     "output_type": "execute_result"
    }
   ],
   "source": [
    "shares = zeros(2,2)"
   ]
  },
  {
   "cell_type": "code",
   "execution_count": 182,
   "id": "a504d2c2-8930-4b77-915e-d8905f9be376",
   "metadata": {},
   "outputs": [
    {
     "data": {
      "text/plain": [
       "2×2 Matrix{Float64}:\n",
       " 0.835197  0.164803\n",
       " 0.165262  0.834738"
      ]
     },
     "execution_count": 182,
     "metadata": {},
     "output_type": "execute_result"
    }
   ],
   "source": [
    "shares"
   ]
  },
  {
   "cell_type": "code",
   "execution_count": null,
   "id": "e52c1146-df8a-4b03-a022-532cd70d2e85",
   "metadata": {},
   "outputs": [],
   "source": []
  }
 ],
 "metadata": {
  "kernelspec": {
   "display_name": "Julia 1.6.0",
   "language": "julia",
   "name": "julia-1.6"
  },
  "language_info": {
   "file_extension": ".jl",
   "mimetype": "application/julia",
   "name": "julia",
   "version": "1.6.0"
  }
 },
 "nbformat": 4,
 "nbformat_minor": 5
}
