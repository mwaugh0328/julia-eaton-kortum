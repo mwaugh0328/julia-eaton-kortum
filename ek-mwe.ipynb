{
 "cells": [
  {
   "cell_type": "code",
   "execution_count": 13,
   "id": "f5a2827d-4b61-49b8-a416-bc60729e496d",
   "metadata": {},
   "outputs": [],
   "source": [
    "using BenchmarkTools, SpecialFunctions\n",
    "using LinearAlgebra, Statistics\n",
    "using Plots\n",
    "using Random, Distributions\n",
    "gr(fmt=:png); # setting for easier display in jupyter notebooks"
   ]
  },
  {
   "cell_type": "markdown",
   "id": "1a2402e7-bb9f-488d-955f-d8596be84e19",
   "metadata": {},
   "source": [
    "**Introduction**\n",
    "\n",
    "I'm teaching myself ``julia``. The simplest way for me todo so is to work with a model that I know extremely well---the Ricardian model of Eaton and Kortum (2002). So below I will outline the economic environment and then use the properties of ``julia`` to map the fundemental, mathematical enviorment into a computational/quantitative outcome. Outside of performance properties, the more I reflect on this, this is a huge appeal of the ``julia`` language. In contrast, in for example MATLAB, the map from white board to computation is big.\n",
    "\n",
    "---\n",
    "\n",
    "**Countries.** To keep things simple, let's firs work with a simple two country set up---a home and a foreign country. \n",
    "\n",
    "**Individual Goods Production.**\n",
    "Within a country, there is a continuum of intermediate goods indexed by $\\omega \\in [0, 1]$. As in the Ricardian model of \\citet{dornbusch1977comparative} and \\citet{eaton2002technology}, intermediate goods are not nationally differentiated. Thus, intermediate $\\omega$ produced in one country is a perfect substitute for the same intermediate $\\omega$ produced by another country. Competitive firms produce intermediate goods with linear production technologies,\n",
    "\\begin{align}\n",
    "q(\\omega) = z(\\omega) \\ell,\n",
    "\\end{align}\n",
    "where $z$ is the productivity level of firms and $\\ell$ is the number of efficiency units of labor. "
   ]
  },
  {
   "cell_type": "markdown",
   "id": "2605aa22-7127-445a-b832-cd78c293db60",
   "metadata": {},
   "source": [
    "**The Aggregator** In this model, intermediate goods are aggregated by a competitive final-goods producer. In Julia, what would be interesting is to make the aggregator generic and let the user specify how this works. But for know, we will follow the canonical situation with  who has a standard CES production function:\n",
    "\n",
    "\\begin{align}\n",
    "Q = \\left[ \\int_0^1 q(\\omega)^{\\frac{\\sigma - 1}{\\sigma}} d\\omega \\right]^{\\frac{\\sigma}{\\sigma - 1}},\n",
    "\\label{eq:ces}\n",
    "\\end{align}\n",
    "\n",
    "where $q(\\omega)$ is the quantity of individual intermediate goods $\\omega$ demanded by the final-goods firm, and $\\sigma$ is elasticity of substitution across variety. I want to talk through some properties/definitions related to this aggregator.\n",
    "\n",
    "- The aggregator in (\\ref{eq:ces}) gives rise to the following the demand curve (in quantities) for an individual variety:\n",
    "\n",
    "\\begin{align}\n",
    "q(\\omega) & = \\left(\\frac{p_h(\\omega)}{P_h}\\right)^{-\\sigma}Q.\n",
    "\\label{eq:demand_curve}\n",
    "\\end{align}\n",
    "\n",
    "where $Q$ is the aggregate demand for the final good; $P_h$ is the CES price index, defined below; And $p_h(\\omega)$ is the price paid by the home country for good $\\omega$ (which is not the same necessarily as the price offered by a home country supplier.\n",
    "\n",
    "- The demand curve can also be expressed in shares, not quantities. So\n",
    "\n",
    "\\begin{align}\n",
    "\\frac{p_h(\\omega)q(\\omega)}{P_h Q} & = \\left(\\frac{p_h(\\omega)}{P_h}\\right)^{1-\\sigma}.\n",
    "\\label{eq:demand_curve_share}\n",
    "\\end{align}\n",
    "\n",
    "which says that the value of of good $\\omega$ relative to total expenditures $P_h Q$ is given by the formula above. This helps as we can compute expenditure patterns while being agnostic about the actual size of the economy, i.e. $Q$. One useful relationship that builds on this is to condition on the source and aggregate to arrive at the share of goods purchased from another country. How does this work? \n",
    "\n",
    "\\begin{align}\n",
    "\\pi_{h,f} = \\int_{p_h = p_{h,f}} \\left(\\frac{p_h(\\omega)}{P_h}\\right)^{1-\\sigma} d\\omega\n",
    "\\end{align}\n",
    "\n",
    "Where the notation here $\\pi_{h,f}$ is the share of goods that the home country sources from the foreign country. This is equal do the integral over all goods purchased from them, hence, the conditioning where $p_h = p_{h,f}$ and then the inside of the brackets is the same as above. Easy.\n",
    "\n",
    "- The **CES Price Index** is given by\n",
    "\n",
    "\\begin{align}\n",
    "P_h  = \\left [ \\int_{0}^{1} p_h(\\omega)^{1-\\sigma} d\\omega \\right]^{\\frac{1}{1-\\sigma}}\n",
    "\\label{eq:ces_price_index}\n",
    "\\end{align}\n",
    "\n",
    "which takes all the prices at the micro-level and the is like a harmonic mean of these prices. Also note how one can substitute \\ref{eq:ces_price_index} into the share formula to get an expression of expenditures shares purely in terms of micro-level prices."
   ]
  },
  {
   "cell_type": "code",
   "execution_count": 5,
   "id": "6da47872-4f1f-416b-8721-fe75365f10ae",
   "metadata": {},
   "outputs": [
    {
     "data": {
      "text/plain": [
       "ces_shares (generic function with 1 method)"
      ]
     },
     "execution_count": 5,
     "metadata": {},
     "output_type": "execute_result"
    }
   ],
   "source": [
    "function ces_shares(p::Matrix{Float64}, source_country::Matrix{CartesianIndex{2}}, σ::Float64)\n",
    "    # this will take in (i) prices purchased at and\n",
    "    # a cartesian index that can determine country supplier\n",
    "    # then a parameter for the CES aggregator.\n",
    "    # I'm toying around with explicity typing here. Any thoughts?\n",
    "    # When presented this way. One can see how any arbitrary aggregator could be put in place.\n",
    "    \n",
    "    ngoods = length(p) # number of goods\n",
    "    \n",
    "    ncntry = ndims(source_country) # number of coutnries\n",
    "    \n",
    "    price_index = ( sum(p.^(1-σ)) / ngoods )^(1/(1-σ)) # CES price index\n",
    "    \n",
    "    # now construct the shares...\n",
    "    trade_shares = zeros(ncntry)\n",
    "    \n",
    "    source_prob = zeros(ncntry)\n",
    "    \n",
    "    for cntry = 1:ncntry\n",
    "        # This is the loop that conditions on the source country\n",
    "        # first fix a country...\n",
    "\n",
    "        supplier = [ zzz[2] == cntry for zzz in source_country ]\n",
    "        # this is then a simple inline expression saying, for each \n",
    "        # index in the source country, which onex zzz[2] are equall \n",
    "        # to the country of origin...\n",
    "        \n",
    "        source_prob[cntry] = sum(supplier) / ngoods\n",
    "        # This will compute the simple probability of being the low cost \n",
    "        # supplier. In the Frechet model = trade share. Alternative distributional\n",
    "        # assumptions will deliver something different.\n",
    "        \n",
    "        trade_shares[cntry] = sum((p[supplier]./price_index).^(1-σ)) / ngoods\n",
    "        \n",
    "    end\n",
    "        \n",
    "    return price_index, trade_shares, source_prob\n",
    "\n",
    "end"
   ]
  },
  {
   "cell_type": "code",
   "execution_count": 52,
   "id": "7f2edee1-1416-4974-b9c0-df4c6e238112",
   "metadata": {},
   "outputs": [
    {
     "data": {
      "text/plain": [
       "marginal_cost (generic function with 2 methods)"
      ]
     },
     "execution_count": 52,
     "metadata": {},
     "output_type": "execute_result"
    }
   ],
   "source": [
    "function marginal_cost(z::AbstractArray, wage::AbstractArray, τ::AbstractArray)\n",
    "    return (τ.*wage)./z\n",
    "end"
   ]
  },
  {
   "cell_type": "code",
   "execution_count": 47,
   "id": "2c03e099-7c49-44a1-995b-942d98e1bb1e",
   "metadata": {},
   "outputs": [
    {
     "data": {
      "text/plain": [
       "make_productity (generic function with 3 methods)"
      ]
     },
     "execution_count": 47,
     "metadata": {},
     "output_type": "execute_result"
    }
   ],
   "source": [
    "function make_productity(T::Matrix{Int64},θ::Float64,ngoods::Int64)\n",
    "    \n",
    "    ncntry = length(T)\n",
    "    \n",
    "    z = zeros(ngoods,ncntry)\n",
    "    \n",
    "    for cntry = 1:ncntry\n",
    "    \n",
    "        dist = Frechet(θ, T[cntry]^(1/θ))\n",
    "    \n",
    "        z[:,cntry] = rand(dist, ngoods, 1);\n",
    "    \n",
    "    end\n",
    "    \n",
    "    return z\n",
    "    \n",
    "end"
   ]
  },
  {
   "cell_type": "code",
   "execution_count": 61,
   "id": "2bee7c29-3333-4bbf-b9f0-5696981801e2",
   "metadata": {},
   "outputs": [],
   "source": [
    "tau_matrix = [1 1.5; 1.5 1]\n",
    "T = [1.0 2.0]\n",
    "w = [1.0 1.0]\n",
    "θ = 4.0\n",
    "\n",
    "ncntry = ndims(tau_matrix)\n",
    "ngoods = 1000000\n",
    "\n",
    "z = make_productity(T,θ,ngoods)\n",
    "\n",
    "price_index = zeros(ncntry)\n",
    "shares = zeros(ncntry,ncntry)\n",
    "source_prob = zeros(ncntry,ncntry)\n",
    "\n",
    "for cntry = 1:ncntry\n",
    "\n",
    "    p, source_country = findmin(marginal_cost(z, w, tau_matrix[cntry,:]'); dims = 2);\n",
    "    # find the min over marginal costs\n",
    "    # note that the tau_matrix returns a vector, not a row vector as I was anticipating\n",
    "    # so take the transpose to make it work.\n",
    "\n",
    "    (price_index[cntry], shares[cntry,:], source_prob[cntry,:]) = ces_shares(p, source_country, 2.0);\n",
    "    # then this is set up so the row is the buyer...then you go across the columns\n",
    "    # and that is share of goods the home country buys from that country.\n",
    "    \n",
    "end"
   ]
  },
  {
   "cell_type": "code",
   "execution_count": 62,
   "id": "b24310d9-9d15-4b5f-9fdb-8dc384b87be8",
   "metadata": {},
   "outputs": [
    {
     "data": {
      "text/plain": [
       "2×2 Matrix{Float64}:\n",
       " 0.71748    0.28252\n",
       " 0.0903151  0.909685"
      ]
     },
     "execution_count": 62,
     "metadata": {},
     "output_type": "execute_result"
    }
   ],
   "source": [
    "shares"
   ]
  },
  {
   "cell_type": "code",
   "execution_count": 63,
   "id": "05e29037-5c1a-40f0-bd22-250faa3cb816",
   "metadata": {},
   "outputs": [
    {
     "data": {
      "text/plain": [
       "2×2 Matrix{Float64}:\n",
       " 0.717294  0.282706\n",
       " 0.090292  0.909708"
      ]
     },
     "execution_count": 63,
     "metadata": {},
     "output_type": "execute_result"
    }
   ],
   "source": [
    "source_prob"
   ]
  },
  {
   "cell_type": "code",
   "execution_count": 20,
   "id": "fd2e7edc-24dc-4122-b227-91601388908c",
   "metadata": {},
   "outputs": [],
   "source": [
    "T = 2\n",
    "d = Frechet(θ, T^(1/θ))\n",
    "z = rand(d, 1000000, 1);"
   ]
  },
  {
   "cell_type": "code",
   "execution_count": 21,
   "id": "58608147-f786-4aa4-866e-65452b363b6f",
   "metadata": {},
   "outputs": [
    {
     "data": {
      "text/plain": [
       "1.4567472473027496"
      ]
     },
     "execution_count": 21,
     "metadata": {},
     "output_type": "execute_result"
    }
   ],
   "source": [
    "mean(z)"
   ]
  },
  {
   "cell_type": "code",
   "execution_count": 22,
   "id": "c46967c7-75a8-49fa-abdf-f7c43ac69b2a",
   "metadata": {},
   "outputs": [
    {
     "data": {
      "text/plain": [
       "1.4572742614147616"
      ]
     },
     "execution_count": 22,
     "metadata": {},
     "output_type": "execute_result"
    }
   ],
   "source": [
    "T^(1/θ).*gamma(1-1/θ)"
   ]
  },
  {
   "cell_type": "code",
   "execution_count": null,
   "id": "69601101-0fcb-4e09-9eaa-1570288642a5",
   "metadata": {},
   "outputs": [],
   "source": []
  }
 ],
 "metadata": {
  "kernelspec": {
   "display_name": "Julia 1.6.0",
   "language": "julia",
   "name": "julia-1.6"
  },
  "language_info": {
   "file_extension": ".jl",
   "mimetype": "application/julia",
   "name": "julia",
   "version": "1.6.0"
  }
 },
 "nbformat": 4,
 "nbformat_minor": 5
}
