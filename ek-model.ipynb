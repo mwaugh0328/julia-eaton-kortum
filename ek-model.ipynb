{
 "cells": [
  {
   "cell_type": "code",
   "execution_count": 1,
   "metadata": {},
   "outputs": [],
   "source": [
    "using BenchmarkTools, SpecialFunctions\n",
    "using LinearAlgebra, Statistics\n",
    "using Parameters\n",
    "using Plots\n",
    "using Optim #https://github.com/JuliaNLSolvers/Optim.jl\n",
    "using Random, Distributions\n",
    "gr(fmt=:png); # setting for easier display in jupyter notebooks"
   ]
  },
  {
   "cell_type": "markdown",
   "metadata": {},
   "source": [
    "**Introduction**\n",
    "\n",
    "I'm teaching myself ``julia``. The simplest way for me todo so is to work with a model that I know extremely well---the Ricardian model of Eaton and Kortum (2002). So below I will outline the economic environment and then use the properties of ``julia`` to map the fundamental, mathematical environment into a computational/quantitative outcome. Outside of performance properties, the more I reflect on this, this is a huge appeal of the ``julia`` language. We can express the code and design it in a way that most closely corresponds with the math/model. In contrast, in for example MATLAB, where the map from white board to computation is big."
   ]
  },
  {
   "cell_type": "markdown",
   "metadata": {},
   "source": [
    "### EK (2002) Ricardian Model\n",
    "\n",
    "**Countries.** To keep things simple, let's first work with a simple two country set up---a home and a foreign country, $h$, $f$.\n",
    "\n",
    "**Individual Goods Production.**\n",
    "Within a country, there is a continuum of intermediate goods indexed by $\\omega \\in [0, 1]$. As in the Ricardian model of \\citet{dornbusch1977comparative} and \\citet{eaton2002technology}, intermediate goods are not nationally differentiated. What this means is that intermediate $\\omega$ produced in one country is a perfect substitute for the same intermediate $\\omega$ produced by another country. \n",
    "\n",
    "Competitive firms produce intermediate goods with linear production technologies:\n",
    "\n",
    "\\begin{align}\n",
    "q(\\omega) = z(\\omega) \\ell,\n",
    "\\end{align}\n",
    "\n",
    "where $z$ is the productivity level of firms and $\\ell$ is the number of efficiency units of labor. \n",
    "\n",
    "To ship a technology to another country, iceberg costs are incurred. I will write this as $\\tau_{hf}$ which is the cost the home country must incur to buy from the foreign country. The notation here will correspond with the row, column format of a matrix, so for a given row all the trade costs across the different columns are the ones that they face to buy from different countries. Then the usual normalization here is that $\\tau_{hh} = 1$. Again, on the computer, this means that the diagonal entries are one.\n",
    "\n",
    "**The Aggregator.** In this model, intermediate goods are aggregated by a competitive final-goods producer. In Julia, what would be interesting is to make the aggregator generic and let the user specify how this works. But for know, we will follow the canonical situation with a standard CES production function:\n",
    "\n",
    "\\begin{align}\n",
    "Q = \\left[ \\int_0^1 q(\\omega)^{\\frac{\\sigma - 1}{\\sigma}} d\\omega \\right]^{\\frac{\\sigma}{\\sigma - 1}},\n",
    "\\label{eq:ces}\n",
    "\\end{align}\n",
    "\n",
    "where $q(\\omega)$ is the quantity of individual intermediate goods $\\omega$ demanded by the final-goods firm, and $\\sigma$ is elasticity of substitution across variety. I want to talk through some properties/definitions related to this aggregator.\n",
    "\n",
    "- The aggregator in (\\ref{eq:ces}) gives rise to the following the demand curve (in quantities) for an individual variety:\n",
    "\n",
    "\\begin{align}\n",
    "q(\\omega) & = \\left(\\frac{p_h(\\omega)}{P_h}\\right)^{-\\sigma}Q.\n",
    "\\label{eq:demand_curve}\n",
    "\\end{align}\n",
    "\n",
    "where $Q$ is the aggregate demand for the final good; $P_h$ is the CES price index, defined below; And $p_h(\\omega)$ is the price paid by the home country for good $\\omega$ (which is not the same necessarily as the price offered by a home country supplier).\n",
    "\n",
    "- The demand curve can also be expressed in shares, not quantities. So\n",
    "\n",
    "\\begin{align}\n",
    "\\frac{p_h(\\omega)q(\\omega)}{P_h Q} & = \\left(\\frac{p_h(\\omega)}{P_h}\\right)^{1-\\sigma}.\n",
    "\\label{eq:demand_curve_share}\n",
    "\\end{align}\n",
    "\n",
    "which says that the value of of good $\\omega$ relative to total expenditures $P_h Q$ is given by the formula above. This helps as we can compute expenditure patterns while being agnostic about the actual size of the economy, i.e. $Q$. One useful relationship that builds on this is to condition on the source and aggregate to arrive at the share of goods purchased from another country. How does this work? \n",
    "\n",
    "\\begin{align}\n",
    "\\pi_{h,f} = \\int_{p_h = p_{h,f}} \\left(\\frac{p_h(\\omega)}{P_h}\\right)^{1-\\sigma} d\\omega\n",
    "\\end{align}\n",
    "\n",
    "Where the notation here $\\pi_{h,f}$ is the share of goods that the home country sources from the foreign country. This is equal do the integral over all goods purchased from them, hence, the conditioning where $p_h = p_{h,f}$ and then the inside of the brackets is the same as above. In the computer, the code will be setup with the same row, column notation. So fix a row, then as you go across the different columns you'll view the share of expenditures the, say home country, coming from other countries. \n",
    "\n",
    "A small side note: If you stare at this enough (and know the liturature), than you can start to see a gravity like relationship here without even imposing the Frechet assumption. The key issue is the conditional distribution of goods prices and how it relates to the aggregate, home CES price index discussed next.\n",
    "\n",
    "- The **CES Price Index** is given by\n",
    "\n",
    "\\begin{align}\n",
    "P_h  = \\left [ \\int_{0}^{1} p_h(\\omega)^{1-\\sigma} d\\omega \\right]^{\\frac{1}{1-\\sigma}}\n",
    "\\label{eq:ces_price_index}\n",
    "\\end{align}\n",
    "\n",
    "which takes all the prices at the micro-level and is like a harmonic mean of these prices. Also note how one can substitute \\ref{eq:ces_price_index} into the share formula to get an expression of expenditures shares purely in terms of micro-level prices."
   ]
  },
  {
   "cell_type": "markdown",
   "metadata": {},
   "source": [
    "**The Technology Distribution** \n",
    "\n",
    "This is the key component that makes Eaton and Kortum fly. First, let's be a bit more general here. One could simply think of each countries **individual productivity** draws being characterized by some distribution:\n",
    "\n",
    "\\begin{align}\n",
    "Z_h \\sim F_{h}(z)\n",
    "\\end{align}\n",
    "\n",
    "where $F_{h}$ is a well defined cumulative probability distribution with the associated pdf $f_h(z)$. What this means is for each $\\omega$ variety, in say the home country, the technology/productivity to produce that good is a random $z$ which is characterized by the distribution above. As I'll talk about below, what this allows one to think about is (i) if you hand me a distribution from which I can simulate from (ii) then with assumptions on market structure I can construct prices and (iii) with prices I can construct trade flows.\n",
    "\n",
    "Now Eaton and Kortum make a very specific distributional assumption. They use a Type II extreme value distribution also known as a Frechet:\n",
    "\n",
    "\\begin{align}\n",
    "Z_i \\sim \\exp\\left(-T_i z^{-\\theta}\\right)\n",
    "\\end{align}\n",
    "\n",
    "where the distribution is characterized by a centering parameter $T_i$ which is allowed to vary across countries and a shape parameter $\\theta$ which is assumed to be constant across countries. These assumptions are critical to the closed form characterizations in Eaton and Kortum. However, return to the discussion above. On the computer there are only two limiting factors (i) can you simulate from the distribution and (ii) the empirical question of how to discipline the distribution from which you are simulating. \n",
    "\n",
    "**Optimization** \n",
    "\n",
    "I'm going to walk through a couple of observations about how this economy works.\n",
    "\n",
    "The first observation is that within a country, the key equilibrium price is the wage rate $w$. This wage is the same independent of the labor market / goods-producing sector / etc. This derives from the (within-country) free mobility of labor assumption (which I did not talk about). In some other notebooks, I'll relax this. But for now, labor is freely mobile and now we just need to find the wage so that labor demand equals labor supply. \n",
    "\n",
    "The second observation is that given competitive firms and that they face the wage rate $w$, we know that their marginal cost (and hence price at which they are willing to sell the good domestically) must be:\n",
    "\n",
    "\\begin{align}\n",
    "p_{h,h}(\\omega) = \\frac{w_{h}}{z_{h}(\\omega)},\n",
    "\\label{eq:ek_wage}\n",
    "\\end{align}\n",
    "\n",
    "and then the price at which they would be willing to export the good, say from home to foreign is just adjusted by the ice-berg trade costs so \n",
    "\n",
    "\\begin{align}\n",
    "p_{f,h}(\\omega) = \\frac{\\tau_{f,h} w_{h}}{z_{h}(\\omega)}.\n",
    "\\end{align}\n",
    "\n",
    "The third question is who buys what from whom? This aspect of the model is that really is just an application of the min operator. So buy the good from the country with the lowest price:\n",
    "\n",
    "\\begin{align}\n",
    "p_{h}(\\omega) = \\min\\left\\{ \\frac{w_{h}}{z_{h}(\\omega)}, \\ \\frac{\\tau_{h,f} w_{f}}{z_{f}(\\omega)} \\right\\}\n",
    "\\end{align}\n",
    "\n",
    "where the thing on the left is the domestic price, and then the thing on the right is on the world price (inclusive of the trade cost)."
   ]
  },
  {
   "cell_type": "markdown",
   "metadata": {},
   "source": [
    "### Equilibrium\n",
    "\n",
    "I'm going to present this in a way slightly different than usual. So I want to think of the wage as clearing the labor market. This implies that goods demand will equal goods supply which will reduce to balanced trade. The idea here is to build up into some later notebooks where we can think of more sophisticated labor market settings with elastic labor supply, mobility/migration frictions similar to my work with Spencer.\n",
    "\n",
    "**Labor Demand** so the key idea here is the the CES demand curve also is a labor demand curve when combined with the production function. First, consider the simple case of a closed economy. Here we have:\n",
    "\n",
    "\\begin{align}\n",
    "\\ell(\\omega) & = \\frac{1}{z(\\omega)}\\left(\\frac{w / z(\\omega)}{P_h}\\right)^{-\\sigma}Q.\n",
    "\\label{eq:labor_demand_curve}\n",
    "\\end{align}\n",
    "\n",
    "where I substituted in the price equaling marginal costs, which after pulling things out we have that\n",
    "\n",
    "\\begin{align}\n",
    "\\ell_h(\\omega) & = z_h(\\omega)^{\\sigma - 1}\\left(\\frac{w_h}{P_h} \\right)^{-\\sigma}Q.\n",
    "\\label{eq:demand_curve2}\n",
    "\\end{align}\n",
    "\n",
    "which has the inuitive idea that (i) if productivity is high or aggregate demand is high you need **more workers** and (ii) if the wage is high you demand less workers. Now let's extend this to the open economy setting. So labor demand is\n",
    "\n",
    "\\begin{align}\n",
    "\\ell_h(\\omega) & = \\underbrace{\\frac{1}{z_h(\\omega)}\\left(\\frac{w_h / z_h(\\omega)}{P_h}\\right)^{-\\sigma}Q_h}_{\\mbox{domestic demand}} \\ + \\ \\underbrace{\\frac{1}{z_h(\\omega)}\\left(\\frac{\\tau_{f,h} w_h / z_h(\\omega)}{P_f}\\right)^{-\\sigma}Q_f}_{\\mbox{foreign demand}}\n",
    "\\end{align}\n",
    "\n",
    "where again, I substituted in the price for good $\\omega$ in the domestic demand curve and (if purchased) into the foreign demand curve. Note that this is a generic representation in the sense that domestic demand and foreign demand might be zero. In this case, the good is imported from abroad. Or it might be only domesticly demanded (which in this cases the good is non traded) and then it's both bought at home and sent abroad (so that good is exported). \n",
    "\n",
    "Then one way to think about an equilibrium is we need to find a wage vector $\\mathbb{w}$ such labor supply equals labor demand. So \n",
    "\n",
    "\\begin{align}\n",
    "L_h^{D} = \\int \\ell_h(\\omega) d\\omega = \\int_{p_h = p_{h,h}} \\frac{1}{z(\\omega)}\\left(\\frac{w_h / z(\\omega)}{P_h}\\right)^{-\\sigma}Q_h + \\int_{p_f = p_{f,h}} \\frac{\\tau_{f,h}}{z(\\omega)}\\left(\\frac{\\tau_{f,h} w_h / z(\\omega)}{P_f}\\right)^{-\\sigma}Q_f\n",
    "\\end{align}\n",
    "\n",
    "and we would require that $w$ be such that $L_i^{D}(\\mathbb{w}) = L^{S}$.\n",
    "\n",
    "**Goods Demand and Goods Supply** This is an alternative way to find the equillibrium wage vector via the goods market. Now there are in principal two ways to go about this. One is to work from the income side. We know that total income (and spending) in the country is\n",
    "\n",
    "\\begin{align}\n",
    "L_h w_h\n",
    "\\end{align}\n",
    "\n",
    "which because all this income is only spent on goods, this is the same as goods demand. Then we know that income recived is related to spending and the expenditure shares. So working from the perspective of the home country, we have:\n",
    "\n",
    "\\begin{align}\n",
    "\\sum_{i} L_i w_i \\pi_{i,h} (\\mathbb{w})\n",
    "\\end{align}\n",
    "\n",
    "which is the sum of each country's expenditure on goods from home. In other words, these are the payments for all the production in the home country. Now this sum has a nice matrix representation.If you define $L_i w_i = Y_i$ which is the typical element in the vector $\\mathbb{Y}$, the vector of income for the production of goods across all countries is:\n",
    "\n",
    "\\begin{align}\n",
    "\\mathbb{Y}'(\\mathbb{w}) \\times \\mathbb{\\pi}(\\mathbb{w})\n",
    "\\end{align}\n",
    "\n",
    "which must equall total spending which is $\\mathbb{Y}'(\\mathbb{w})$ in equillibrium. "
   ]
  },
  {
   "cell_type": "markdown",
   "metadata": {},
   "source": [
    "### Computing\n",
    "\n",
    "Given everything laid out, some wages $w_i$ and then primitives regarding technologies $T$, $\\theta$, $\\sigma$ and $\\tau$ we can compute an equillibrium and the objects associated with it, i.e. the pattern of trade, the price index, quantities, etc. Now to compute the equillibrium, we do need to computationally compute the integrals above. I'm going to explore two approaches:\n",
    "\n",
    "##### Simmulation \n",
    "One approach is to evaluate the integrals by simulation: the idea will be to think of the product space $\\omega$ as an integer on the real line which indexes the goods location. That is $\\omega = 1,2,...$ Then for each of those products, each country is randomly assigned a productivity from the distribution. Then the number of goods, so to speak, is set to be large and thus will approximate the integrals above. So what this means is, for example, the expenditure share of goods that country $h$ buys from country $f$ is:\n",
    "\n",
    "\\begin{align}\n",
    "\\pi_{h,f} =  (1 / N) \\sum_{\\omega = 1}^N  \\mathbb{1}\\{p_h = p_{h,f}\\} \\left(\\frac{p_h(\\omega)}{P_h}\\right)^{1-\\sigma} \n",
    "\\end{align}\n",
    "\n",
    "Note that the probability country $h$ sources from country $f$ is\n",
    "\\begin{align}\n",
    "\\hat \\pi_{h,f} =  (1 / N) \\sum_{\\omega = 1}^N  \\mathbb{1}\\{p_h = p_{h,f}\\}\n",
    "\\end{align}\n",
    "\n",
    "where it turns out that the sourcing probability happens to correspond with the expenditure share, so $\\pi_{h,f} = \\hat \\pi_{h,f}$. This latter point is very subtle, special to the Frechet distribution + CES. One way to see what is going on is to note that if (this is super loose, but in the discretized case I think you can see this easier) the expected valye of imported $p_{h,f}$ goods is the same as the aggregate price index, then things cancel and one could see the correspondence.\n",
    "\n",
    "Now, to compute the expenditure shares, we must compute the CES price index. This is computed as:\n",
    "\n",
    "\\begin{align}\n",
    "P_h  = \\left [ (1 / N) \\sum_{\\omega = 1}^N p_h(\\omega)^{1-\\sigma} \\right]^{\\frac{1}{1-\\sigma}}\n",
    "\\end{align}\n",
    "\n",
    "And labor demand is computed as:\n",
    "\n",
    "\\begin{align}\n",
    "L^D = (1 / N) \\sum_{\\omega = 1}^N  \\mathbb{1}\\{p_h = p_{h,h}\\}  \\frac{1}{z(\\omega)}\\left(\\frac{w_h / z_h(\\omega)}{P_h}\\right)^{-\\sigma}Q_h + \n",
    "(1 / N) \\sum_{\\omega = 1}^N  \\mathbb{1}\\{p_f = p_{f,h}\\} \\frac{\\tau_{f,h}}{z(\\omega)}\\left(\\frac{\\tau_{f,h} w_h / z_f(\\omega)}{P_f}\\right)^{-\\sigma}Q_f\n",
    "\\end{align}\n",
    "\n",
    "- The CES function ``ces_shares`` that takes prices and sourcing decisions to compute trade shares.\n",
    "\n",
    "- A function that computes potential prices based on marginal costs, ``marginal_costs``\n",
    "\n",
    "- A function that constructs a vector of productivity for each good, across all countries, given the Frechet distribution, this is the ``make_productivity`` function. Note, future, it would be nice if the distribution type could be directly passed into this and also appropriately indexed. Maybe with a dictionary?"
   ]
  },
  {
   "cell_type": "code",
   "execution_count": 2,
   "metadata": {},
   "outputs": [
    {
     "data": {
      "text/plain": [
       "##NamedTuple_kw#253 (generic function with 2 methods)"
      ]
     },
     "execution_count": 2,
     "metadata": {},
     "output_type": "execute_result"
    }
   ],
   "source": [
    "# this creates a tuple with the named parameters\n",
    "# then with the @unpack command (from parameters)\n",
    "# you can simply grab from it what you need...\n",
    "# so pp = ekparams(θ = 5.0) creates the parameter structure\n",
    "# but with theta = 5. if not specified, below are the defalut values.\n",
    "# for example @unpack θ, T, σ = pp; only pulls out\n",
    "# the theta, T, sigma from the\n",
    "\n",
    "ekparams = @with_kw (θ = 4.0,\n",
    "    T = [1.0 2.5],\n",
    "    τ_matrix = [1.0 1.5; 1.5 1.0],\n",
    "    L = [1.0 1.0],\n",
    "    ngoods = 10000,\n",
    "    ncntry = ndims(τ_matrix),\n",
    "    σ = 2.0,\n",
    "    seed = 3281978\n",
    "    )"
   ]
  },
  {
   "cell_type": "code",
   "execution_count": 3,
   "metadata": {},
   "outputs": [
    {
     "data": {
      "text/plain": [
       "ces (generic function with 3 methods)"
      ]
     },
     "execution_count": 3,
     "metadata": {},
     "output_type": "execute_result"
    }
   ],
   "source": [
    "# This is me trying multiple dispatch\n",
    "# so the ces function will do different things depending upon\n",
    "# the arguments passed. The frist one deliivers the shares\n",
    "# but if aggregate demand is passed (Q), then you get out the\n",
    "# real quantities.\n",
    "\n",
    "function ces(p, σ)\n",
    "    ngoods = size(p)[1]\n",
    "    \n",
    "    return ( sum( p.^(one(σ)-σ) ) / ngoods ).^( one(σ) ./ (one(σ) - σ) )\n",
    "    \n",
    "    # So if it's just small p, then kick back the price index\n",
    "    \n",
    "    \n",
    "    # I'm using the one(sigma) to make sure type stable. maybe\n",
    "    # this might be doing ints on floats here...need to think more\n",
    "    # about this, use promotions?\n",
    "    \n",
    "end\n",
    "\n",
    "\n",
    "function ces(p, P, σ)\n",
    "    \n",
    "    return (p ./ P).^(one(σ) - σ)\n",
    "    # So if it has the big P, it return the expenditure share\n",
    "    \n",
    "    \n",
    "end\n",
    "\n",
    "function ces(p, P, Q, σ)\n",
    "    \n",
    "    return ((p ./ P).^(- σ) ).*Q\n",
    "    # return the quantity if big Q is included\n",
    "    \n",
    "end"
   ]
  },
  {
   "cell_type": "code",
   "execution_count": 4,
   "metadata": {},
   "outputs": [
    {
     "data": {
      "text/plain": [
       "ces_shares (generic function with 2 methods)"
      ]
     },
     "execution_count": 4,
     "metadata": {},
     "output_type": "execute_result"
    }
   ],
   "source": [
    "function ces_shares(p, source_country::Array{CartesianIndex{2},2}, σ = 2.0)\n",
    "    # this will take in (i) prices **purchased at** and\n",
    "    # a cartesian index that can determine country supplier\n",
    "    \n",
    "    ngoods = length(p) # number of goods\n",
    "    \n",
    "    ncntry = ndims(source_country) # number of coutnries\n",
    "    \n",
    "    price_index = ces(p, σ) # CES price index\n",
    "    \n",
    "    # now construct the shares...\n",
    "    trade_shares = zeros(ncntry)\n",
    "    \n",
    "    source_prob = zeros(ncntry)\n",
    "    \n",
    "    for cntry = 1:ncntry\n",
    "        # This is the loop that conditions on the source country\n",
    "        # first fix a country...\n",
    "\n",
    "        supplier = [ zzz[2] == cntry for zzz in source_country ]\n",
    "        # source_country is a 2dim caartesian index which\n",
    "        # says for each good (first dimension), which country is the low cost \n",
    "        # supplier (second country).\n",
    "        #\n",
    "        # this is then a simple inline expression saying, for each \n",
    "        # good (so every entry along the first dimension), which values in the second \n",
    "        # dimension zzz[2] are equall to the country in question \"cntry\" \n",
    "        # the result is supplier which is a vector of logicals, with true (one)\n",
    "        # values indicating that \"cntry: is the low cost supplier\n",
    "        # \n",
    "        # To map to the math above, this is compute the indicator functions \n",
    "        # for each good, from the perspective of each country.\n",
    "        \n",
    "        source_prob[cntry] = (1 / ngoods) * sum(supplier) \n",
    "        # This will compute the simple probability of being the low cost \n",
    "        # supplier, by summing across the indicator/bools \n",
    "        # In the Frechet model = trade share. Alternative distributional\n",
    "        # assumptions will deliver something different.\n",
    "\n",
    "        \n",
    "        trade_shares[cntry] = (1 / ngoods) * sum(ces(p[supplier], price_index, σ)) \n",
    "        # then this is just the ces demand curve described above.\n",
    "        # sum across p's, conditional on it being supplied,\n",
    "        # then divide by number of goods\n",
    "        \n",
    "    end\n",
    "        \n",
    "    return price_index, trade_shares, source_prob\n",
    "\n",
    "end"
   ]
  },
  {
   "cell_type": "code",
   "execution_count": 5,
   "metadata": {},
   "outputs": [
    {
     "data": {
      "text/plain": [
       "marginal_cost (generic function with 1 method)"
      ]
     },
     "execution_count": 5,
     "metadata": {},
     "output_type": "execute_result"
    }
   ],
   "source": [
    "function marginal_cost(z, wage, τ)\n",
    "    \n",
    "    return (τ.*wage)./z\n",
    "\n",
    "end"
   ]
  },
  {
   "cell_type": "code",
   "execution_count": 6,
   "metadata": {},
   "outputs": [
    {
     "data": {
      "text/plain": [
       "make_productity (generic function with 1 method)"
      ]
     },
     "execution_count": 6,
     "metadata": {},
     "output_type": "execute_result"
    }
   ],
   "source": [
    "function make_productity(model_params)\n",
    "    \n",
    "    @unpack θ, T, ncntry, ngoods, seed = model_params;\n",
    "        \n",
    "    z = zeros(ngoods, ncntry)\n",
    "    \n",
    "    for cntry = 1:ncntry\n",
    "    \n",
    "        dist = Frechet(θ, T[cntry]^(one(θ)/θ))\n",
    "        # Ideally, it would be cool to potentially be able to pass as an argument\n",
    "        # the distibution for each country or something like that.\n",
    "    \n",
    "        z[:,cntry] = rand(MersenneTwister(seed + cntry), dist, ngoods, 1);\n",
    "        #I tried the rand! command (if modifies the argument),\n",
    "        # it did not work...seemed to rewrite everytime\n",
    "        # this thing looped through.\n",
    "        # MersenneTwister is the seed setter for the random number generator...\n",
    "        # works simmilar to matlab...takes an integer and then specifies\n",
    "    \n",
    "    end\n",
    "    \n",
    "    return z\n",
    "    \n",
    "end"
   ]
  },
  {
   "cell_type": "code",
   "execution_count": 7,
   "metadata": {},
   "outputs": [
    {
     "data": {
      "text/plain": [
       "low_cost_supplier (generic function with 1 method)"
      ]
     },
     "execution_count": 7,
     "metadata": {},
     "output_type": "execute_result"
    }
   ],
   "source": [
    "function low_cost_supplier(z, w, τ)\n",
    "    \n",
    "    return p, source_country = findmin(marginal_cost(z, w, τ); dims = 2);\n",
    "    \n",
    "end"
   ]
  },
  {
   "cell_type": "code",
   "execution_count": 8,
   "metadata": {},
   "outputs": [
    {
     "data": {
      "text/plain": [
       "equillibrium_evaluate (generic function with 2 methods)"
      ]
     },
     "execution_count": 8,
     "metadata": {},
     "output_type": "execute_result"
    }
   ],
   "source": [
    "function equillibrium_evaluate(w, z, model_params)\n",
    "    \n",
    "     @unpack ncntry, ngoods, τ_matrix, L = model_params;\n",
    "        \n",
    "    price_index = similar(w)\n",
    "    trade_shares = zeros(ncntry,ncntry)\n",
    "    source_prob = similar(trade_shares)\n",
    "    source_country = Array{CartesianIndex{2}}(undef, size(z))\n",
    "    # this I thought I knew what I was doing, not sure now\n",
    "\n",
    "    for cntry = 1:ncntry\n",
    "\n",
    "        p, sc = low_cost_supplier(z, w, τ_matrix[cntry,:]');\n",
    "            # find the min over marginal costs\n",
    "            # note that the tau_matrix returns a vector, not a row vector as I was anticipating\n",
    "            # so take the transpose to make it work.\n",
    "\n",
    "        (price_index[cntry], trade_shares[cntry,:], source_prob[cntry,:]) = ces_shares(p, sc);\n",
    "            # then this is set up so the row is the buyer...then you go across the columns\n",
    "            # and that is share of goods the home country buys from that country.\n",
    "    \n",
    "        source_country[:, cntry] = sc ;\n",
    "    end\n",
    "    \n",
    "    value_expenditure = (L.*w)*trade_shares ;\n",
    "    # Need to spell this out in markdown\n",
    "    # Note this is a matrix operation. Lw is N x 1, trades shares is N x N\n",
    "    # so this gives a N x 1 vector of expendeture. \n",
    "\n",
    "    value_production = L.*w ;\n",
    "\n",
    "    return norm(value_production - value_expenditure), trade_shares, price_index, source_country, source_prob\n",
    "    \n",
    "end\n",
    "##########################################################################################################\n",
    "# here again, I'm going to try and explit multiple dispatch. So if I pass an additional variable then it\n",
    "# will compute the equillibrium via labor demand\n",
    "\n",
    "##########################################################################################################\n",
    "\n",
    "function equillibrium_evaluate(w, z, model_params, ld_flag)\n",
    "    \n",
    "     @unpack ncntry, ngoods, τ_matrix, L = model_params;\n",
    "        \n",
    "    price_index = similar(w)\n",
    "    agg_l_demand = similar(w)\n",
    "    trade_shares = zeros(ncntry,ncntry)\n",
    "    source_prob = similar(trade_shares)\n",
    "    source_country = Array{CartesianIndex{2}}(undef, size(z))\n",
    "    # this I thought I knew what I was doing, not sure now\n",
    "\n",
    "    for cntry = 1:ncntry\n",
    "\n",
    "        p, sc = low_cost_supplier(z, w, τ_matrix[cntry,:]');\n",
    "            # find the min over marginal costs\n",
    "            # note that the tau_matrix returns a vector, not a row vector as I was anticipating\n",
    "            # so take the transpose to make it work.\n",
    "\n",
    "        (price_index[cntry], trade_shares[cntry,:], source_prob[cntry,:]) = ces_shares(p, sc);\n",
    "            # then this is set up so the row is the buyer...then you go across the columns\n",
    "            # and that is share of goods the home country buys from that country.\n",
    "    \n",
    "        source_country[:, cntry] = sc ;\n",
    "    end\n",
    "\n",
    "    \n",
    "    endogenous_var = @with_kw (source_country = source_country,\n",
    "    z = z,\n",
    "    w = w,\n",
    "    price_index = price_index,\n",
    "    Q =  L.*w ./ price_index)\n",
    "    \n",
    "    for cntry = 1:ncntry\n",
    "        \n",
    "        agg_l_demand[cntry] = labor_demand(endogenous_var(), cntry, model_params)[1];\n",
    "        \n",
    "    end\n",
    "    \n",
    "    return norm(agg_l_demand - L), trade_shares, price_index, source_country, source_prob\n",
    "    \n",
    "end"
   ]
  },
  {
   "cell_type": "code",
   "execution_count": 29,
   "metadata": {},
   "outputs": [
    {
     "data": {
      "text/plain": [
       "labor_demand (generic function with 1 method)"
      ]
     },
     "execution_count": 29,
     "metadata": {},
     "output_type": "execute_result"
    }
   ],
   "source": [
    "function labor_demand(endogenous_var, country, model_params)\n",
    "    \n",
    "    @unpack source_country, z,  w, price_index, Q = endogenous_var;\n",
    "    \n",
    "    @unpack τ_matrix, σ = model_params;\n",
    "    \n",
    "    destinations = Array{Bool}(undef, size(z))\n",
    "    ncntry = size(z)[2]\n",
    "    ngoods = size(z)[1]\n",
    "    \n",
    "    for cntry = 1:ncntry\n",
    "\n",
    "        destinations[:, cntry] = [ zzz[2] == country for zzz in source_country[:, cntry] ]\n",
    "        # this is different than the ces demand line. it says for a given country, go through \n",
    "        # each country low cost supplier and find the places where that given country is the\n",
    "        # low cost supplier. \n",
    "        # Then the destination country is a matrix of bools so indicating if country\n",
    "        # is the low cost supplier to those different (columns) destiation. \n",
    "        # really this is like from the exporter side....\n",
    "        \n",
    "    end\n",
    "    \n",
    "    mc = marginal_cost(z[:, country], w[country], τ_matrix[:, country]')\n",
    "    \n",
    "    q_demand = ces(mc, price_index, Q, σ)\n",
    "    # here I'm using the multiple dispatch of ces...when I pass\n",
    "    # the z argument to it, it returns labor demand\n",
    "    \n",
    "    l_demand = q_demand ./ ( z[:, country] ./  τ_matrix[:, country]' ) ./ ngoods\n",
    "    \n",
    "    agg_l_demand = sum(sum(l_demand.*destinations, dims = 2))\n",
    "    \n",
    "    return agg_l_demand, l_demand.*destinations, destinations\n",
    "    \n",
    "end"
   ]
  },
  {
   "cell_type": "code",
   "execution_count": 12,
   "metadata": {},
   "outputs": [
    {
     "name": "stdout",
     "output_type": "stream",
     "text": [
      "Iter     Function value      Lower bound       Upper bound       Best bound\n",
      "     0     1.403193e+00      5.000000e-02      5.000000e+00      initial\n",
      "    10     8.637413e-04      1.217818e+00      1.219812e+00      upper\n",
      "    20     5.582012e-07      1.219045e+00      1.219051e+00      lower\n"
     ]
    },
    {
     "data": {
      "text/plain": [
       "Results of Optimization Algorithm\n",
       " * Algorithm: Brent's Method\n",
       " * Search Interval: [0.050000, 5.000000]\n",
       " * Minimizer: 1.219048e+00\n",
       " * Minimum: 2.141659e-09\n",
       " * Iterations: 27\n",
       " * Convergence: max(|x - x_upper|, |x - x_lower|) <= 2*(1.5e-08*|x|+2.2e-16): true\n",
       " * Objective Function Calls: 28"
      ]
     },
     "execution_count": 12,
     "metadata": {},
     "output_type": "execute_result"
    }
   ],
   "source": [
    "model_params = ekparams(ngoods = 100000, θ = 4.0)\n",
    "\n",
    "z = make_productity(model_params)\n",
    "\n",
    "ld_flag = true\n",
    "\n",
    "f(x) = equillibrium_evaluate(([1.0 x]), z, model_params)[1]\n",
    "# this is like creating an inline function in matlab. much easier\n",
    "# just create f(x) where x is the variable of interest.\n",
    "# again, the ld_flag if present uses the labor demand condition\n",
    "\n",
    "# This is an example of univarite, between bounds optimization\n",
    "\n",
    "result = optimize(f, (0.05), (5.0),  show_trace = true,\n",
    "                             show_every = 10 )\n"
   ]
  },
  {
   "cell_type": "code",
   "execution_count": 13,
   "metadata": {},
   "outputs": [
    {
     "name": "stdout",
     "output_type": "stream",
     "text": [
      "1.2190478905339983\n"
     ]
    }
   ],
   "source": [
    "println(result.minimizer)"
   ]
  },
  {
   "cell_type": "code",
   "execution_count": 14,
   "metadata": {},
   "outputs": [
    {
     "name": "stdout",
     "output_type": "stream",
     "text": [
      "1.2190478905339983\n"
     ]
    }
   ],
   "source": [
    "println(result.minimizer)"
   ]
  },
  {
   "cell_type": "code",
   "execution_count": 15,
   "metadata": {},
   "outputs": [
    {
     "name": "stdout",
     "output_type": "stream",
     "text": [
      "expenditure shares: [0.819257083393353 0.18074291660664696; 0.14826564200185333 0.8517343579981468]\n",
      "sourcing probabilities: [0.8189400000000001 0.18106000000000003; 0.14831000000000003 0.8516900000000001]\n"
     ]
    }
   ],
   "source": [
    "w = [1.0 result.minimizer]\n",
    "\n",
    "obj = equillibrium_evaluate(w, z, model_params)\n",
    "\n",
    "println(\"expenditure shares: \", obj[2])\n",
    "\n",
    "println(\"sourcing probabilities: \", obj[5])"
   ]
  },
  {
   "cell_type": "code",
   "execution_count": 16,
   "metadata": {},
   "outputs": [
    {
     "data": {
      "image/png": "[encoded data removed]"
     },
     "execution_count": 16,
     "metadata": {},
     "output_type": "execute_result"
    }
   ],
   "source": [
    "@unpack τ_matrix = model_params;\n",
    "\n",
    "p, sc = low_cost_supplier(z, w, τ_matrix[1,:]');\n",
    "\n",
    "mc = marginal_cost(z, w, τ_matrix[1,:]');\n",
    "\n",
    "histogram(p, bins = 100, alpha = 0.5, color = \"dark blue\", label = \"traded prices\", xlabel = \"prices/marginal costs\")\n",
    "histogram!(mc[:,1], bins = 100, alpha = 0.5, color = \"red\", label = \"domestic marginal costs\")\n",
    "\n",
    "# Note there is something up with the bins here. Eg. it is overriding my stuff...\n",
    "# not sure why. "
   ]
  },
  {
   "cell_type": "code",
   "execution_count": 22,
   "metadata": {},
   "outputs": [
    {
     "data": {
      "image/png": "[encoded data removed]"
     },
     "execution_count": 22,
     "metadata": {},
     "output_type": "execute_result"
    }
   ],
   "source": [
    "obj = equillibrium_evaluate(w, z, model_params)\n",
    "\n",
    "@unpack L = model_params;\n",
    "\n",
    "endogenous_var = @with_kw (source_country = obj[4],\n",
    "    z = z,\n",
    "    w = w,\n",
    "    price_index = obj[3],\n",
    "    Q =  L.*w ./ price_index,\n",
    "    )\n",
    "\n",
    "agg_l_demand, ld, srcprb = labor_demand(endogenous_var(), 1, model_params);\n",
    "\n",
    "lall = sum(ld[ld[:,1] .> 0.0, :], dims = 2)\n",
    "\n",
    "lexp = sum(ld[ld[:,2] .> 0.0, :], dims = 2)\n",
    "\n",
    "histogram(log.(lall), bins = 100, alpha = 0.25, color = \"dark blue\", xlabel = \"log labor demand\", label = \"all goods\")\n",
    "\n",
    "histogram!(log.(lexp), bins = 100, alpha = 0.5, color = \"red\", label = \"exported goods\")\n",
    "\n",
    "# same deal and then the histogram looks messed up as the binning is \n",
    "# different"
   ]
  },
  {
   "cell_type": "code",
   "execution_count": null,
   "metadata": {},
   "outputs": [],
   "source": []
  },
  {
   "cell_type": "code",
   "execution_count": 225,
   "metadata": {},
   "outputs": [
    {
     "name": "stdout",
     "output_type": "stream",
     "text": [
      "Labor Demand 1.000"
     ]
    }
   ],
   "source": [
    "ql = sum(sum(ld, dims = 2));\n",
    "\n",
    "print(\"Labor Demand \", string(ql)[1:5])"
   ]
  },
  {
   "cell_type": "code",
   "execution_count": 196,
   "metadata": {},
   "outputs": [
    {
     "data": {
      "text/plain": [
       "0.9999999995753414"
      ]
     },
     "execution_count": 196,
     "metadata": {},
     "output_type": "execute_result"
    }
   ],
   "source": [
    "agg_l_demand"
   ]
  },
  {
   "cell_type": "code",
   "execution_count": 29,
   "metadata": {},
   "outputs": [
    {
     "name": "stdout",
     "output_type": "stream",
     "text": [
      "  6.658 ms (83 allocations: 15.64 MiB)\n"
     ]
    },
    {
     "data": {
      "text/plain": [
       "2.1416585547327893e-9"
      ]
     },
     "execution_count": 29,
     "metadata": {},
     "output_type": "execute_result"
    }
   ],
   "source": [
    "@btime f(result.minimizer)"
   ]
  },
  {
   "cell_type": "code",
   "execution_count": 21,
   "metadata": {},
   "outputs": [
    {
     "name": "stdout",
     "output_type": "stream",
     "text": [
      "  6.756 ms (83 allocations: 15.64 MiB)\n"
     ]
    },
    {
     "data": {
      "text/plain": [
       "2.1416585547327893e-9"
      ]
     },
     "execution_count": 21,
     "metadata": {},
     "output_type": "execute_result"
    }
   ],
   "source": [
    "@btime f(result.minimizer)"
   ]
  },
  {
   "cell_type": "code",
   "execution_count": 31,
   "metadata": {},
   "outputs": [
    {
     "name": "stdout",
     "output_type": "stream",
     "text": [
      "  17.141 ms (39 allocations: 13.35 MiB)\n"
     ]
    },
    {
     "data": {
      "text/plain": [
       "(1.000000001514381, [1.1583083039934047e-5 0.0; 9.29867201075947e-6 0.0; … ; 0.0 0.0; 6.846828387465427e-6 0.0], Bool[1 0; 1 0; … ; 0 0; 1 0])"
      ]
     },
     "execution_count": 31,
     "metadata": {},
     "output_type": "execute_result"
    }
   ],
   "source": [
    "@btime labor_demand(endogenous_var(), 1, model_params)"
   ]
  },
  {
   "cell_type": "code",
   "execution_count": 28,
   "metadata": {},
   "outputs": [
    {
     "name": "stdout",
     "output_type": "stream",
     "text": [
      "  17.185 ms (39 allocations: 13.35 MiB)\n"
     ]
    },
    {
     "data": {
      "text/plain": [
       "(1.000000001514381, [1.1583083039934047e-5 0.0; 9.29867201075947e-6 0.0; … ; 0.0 0.0; 6.846828387465427e-6 0.0], Bool[1 0; 1 0; … ; 0 0; 1 0])"
      ]
     },
     "execution_count": 28,
     "metadata": {},
     "output_type": "execute_result"
    }
   ],
   "source": [
    "@btime labor_demand(endogenous_var(), 1, model_params)"
   ]
  },
  {
   "cell_type": "code",
   "execution_count": 32,
   "metadata": {},
   "outputs": [
    {
     "name": "stdout",
     "output_type": "stream",
     "text": [
      "Variables\n",
      "  #self#\u001b[36m::Core.Compiler.Const(equillibrium_evaluate, false)\u001b[39m\n",
      "  w\u001b[36m::Array{Float64,2}\u001b[39m\n",
      "  z\u001b[36m::Array{Float64,2}\u001b[39m\n",
      "  model_params\u001b[36m::NamedTuple{(:θ, :T, :τ_matrix, :L, :ngoods, :ncntry, :σ, :seed),Tuple{Float64,Array{Float64,2},Array{Float64,2},Array{Float64,2},Int64,Int64,Float64,Int64}}\u001b[39m\n",
      "  255\u001b[36m::NamedTuple{(:θ, :T, :τ_matrix, :L, :ngoods, :ncntry, :σ, :seed),Tuple{Float64,Array{Float64,2},Array{Float64,2},Array{Float64,2},Int64,Int64,Float64,Int64}}\u001b[39m\n",
      "  ncntry\u001b[36m::Int64\u001b[39m\n",
      "  ngoods\u001b[36m::Int64\u001b[39m\n",
      "  τ_matrix\u001b[36m::Array{Float64,2}\u001b[39m\n",
      "  L\u001b[36m::Array{Float64,2}\u001b[39m\n",
      "  price_index\u001b[36m::Array{Float64,2}\u001b[39m\n",
      "  trade_shares\u001b[36m::Array{Float64,2}\u001b[39m\n",
      "  source_prob\u001b[36m::Array{Float64,2}\u001b[39m\n",
      "  source_country\u001b[36m::Array{CartesianIndex{2},2}\u001b[39m\n",
      "  @_14\u001b[33m\u001b[1m::Union{Nothing, Tuple{Int64,Int64}}\u001b[22m\u001b[39m\n",
      "  value_expenditure\u001b[36m::Array{Float64,2}\u001b[39m\n",
      "  value_production\u001b[36m::Array{Float64,2}\u001b[39m\n",
      "  cntry\u001b[36m::Int64\u001b[39m\n",
      "  @_18\u001b[36m::Int64\u001b[39m\n",
      "  @_19\u001b[36m::Int64\u001b[39m\n",
      "  p\u001b[36m::Array{Float64,2}\u001b[39m\n",
      "  sc\u001b[36m::Array{CartesianIndex{2},2}\u001b[39m\n",
      "\n",
      "Body\u001b[36m::Tuple{Float64,Array{Float64,2},Array{Float64,2},Array{CartesianIndex{2},2},Array{Float64,2}}\u001b[39m\n",
      "\u001b[90m1 ─\u001b[39m       Core.NewvarNode(:(value_expenditure))\n",
      "\u001b[90m│  \u001b[39m       Core.NewvarNode(:(value_production))\n",
      "\u001b[90m│  \u001b[39m       (255 = model_params)\n",
      "\u001b[90m│  \u001b[39m %4  = Base.getproperty(UnPack, :unpack)\u001b[36m::Core.Compiler.Const(UnPack.unpack, false)\u001b[39m\n",
      "\u001b[90m│  \u001b[39m %5  = 255\u001b[36m::NamedTuple{(:θ, :T, :τ_matrix, :L, :ngoods, :ncntry, :σ, :seed),Tuple{Float64,Array{Float64,2},Array{Float64,2},Array{Float64,2},Int64,Int64,Float64,Int64}}\u001b[39m\n",
      "\u001b[90m│  \u001b[39m %6  = Core.apply_type(Main.Val, :ncntry)\u001b[36m::Core.Compiler.Const(Val{:ncntry}, false)\u001b[39m\n",
      "\u001b[90m│  \u001b[39m %7  = (%6)()\u001b[36m::Core.Compiler.Const(Val{:ncntry}(), false)\u001b[39m\n",
      "\u001b[90m│  \u001b[39m       (ncntry = (%4)(%5, %7))\n",
      "\u001b[90m│  \u001b[39m %9  = Base.getproperty(UnPack, :unpack)\u001b[36m::Core.Compiler.Const(UnPack.unpack, false)\u001b[39m\n",
      "\u001b[90m│  \u001b[39m %10 = 255\u001b[36m::NamedTuple{(:θ, :T, :τ_matrix, :L, :ngoods, :ncntry, :σ, :seed),Tuple{Float64,Array{Float64,2},Array{Float64,2},Array{Float64,2},Int64,Int64,Float64,Int64}}\u001b[39m\n",
      "\u001b[90m│  \u001b[39m %11 = Core.apply_type(Main.Val, :ngoods)\u001b[36m::Core.Compiler.Const(Val{:ngoods}, false)\u001b[39m\n",
      "\u001b[90m│  \u001b[39m %12 = (%11)()\u001b[36m::Core.Compiler.Const(Val{:ngoods}(), false)\u001b[39m\n",
      "\u001b[90m│  \u001b[39m       (ngoods = (%9)(%10, %12))\n",
      "\u001b[90m│  \u001b[39m %14 = Base.getproperty(UnPack, :unpack)\u001b[36m::Core.Compiler.Const(UnPack.unpack, false)\u001b[39m\n",
      "\u001b[90m│  \u001b[39m %15 = 255\u001b[36m::NamedTuple{(:θ, :T, :τ_matrix, :L, :ngoods, :ncntry, :σ, :seed),Tuple{Float64,Array{Float64,2},Array{Float64,2},Array{Float64,2},Int64,Int64,Float64,Int64}}\u001b[39m\n",
      "\u001b[90m│  \u001b[39m %16 = Core.apply_type(Main.Val, :τ_matrix)\u001b[36m::Core.Compiler.Const(Val{:τ_matrix}, false)\u001b[39m\n",
      "\u001b[90m│  \u001b[39m %17 = (%16)()\u001b[36m::Core.Compiler.Const(Val{:τ_matrix}(), false)\u001b[39m\n",
      "\u001b[90m│  \u001b[39m       (τ_matrix = (%14)(%15, %17))\n",
      "\u001b[90m│  \u001b[39m %19 = Base.getproperty(UnPack, :unpack)\u001b[36m::Core.Compiler.Const(UnPack.unpack, false)\u001b[39m\n",
      "\u001b[90m│  \u001b[39m %20 = 255\u001b[36m::NamedTuple{(:θ, :T, :τ_matrix, :L, :ngoods, :ncntry, :σ, :seed),Tuple{Float64,Array{Float64,2},Array{Float64,2},Array{Float64,2},Int64,Int64,Float64,Int64}}\u001b[39m\n",
      "\u001b[90m│  \u001b[39m %21 = Core.apply_type(Main.Val, :L)\u001b[36m::Core.Compiler.Const(Val{:L}, false)\u001b[39m\n",
      "\u001b[90m│  \u001b[39m %22 = (%21)()\u001b[36m::Core.Compiler.Const(Val{:L}(), false)\u001b[39m\n",
      "\u001b[90m│  \u001b[39m       (L = (%19)(%20, %22))\n",
      "\u001b[90m│  \u001b[39m       255\n",
      "\u001b[90m│  \u001b[39m       (price_index = Main.similar(w))\n",
      "\u001b[90m│  \u001b[39m       (trade_shares = Main.zeros(ncntry, ncntry))\n",
      "\u001b[90m│  \u001b[39m       (source_prob = Main.similar(trade_shares))\n",
      "\u001b[90m│  \u001b[39m %28 = Core.apply_type(Main.CartesianIndex, 2)\u001b[36m::Core.Compiler.Const(CartesianIndex{2}, false)\u001b[39m\n",
      "\u001b[90m│  \u001b[39m %29 = Core.apply_type(Main.Array, %28)\u001b[36m::Core.Compiler.Const(Array{CartesianIndex{2},N} where N, false)\u001b[39m\n",
      "\u001b[90m│  \u001b[39m %30 = Main.size(z)\u001b[36m::Tuple{Int64,Int64}\u001b[39m\n",
      "\u001b[90m│  \u001b[39m       (source_country = (%29)(Main.undef, %30))\n",
      "\u001b[90m│  \u001b[39m %32 = (1:ncntry)\u001b[36m::Core.Compiler.PartialStruct(UnitRange{Int64}, Any[Core.Compiler.Const(1, false), Int64])\u001b[39m\n",
      "\u001b[90m│  \u001b[39m       (@_14 = Base.iterate(%32))\n",
      "\u001b[90m│  \u001b[39m %34 = (@_14 === nothing)\u001b[36m::Bool\u001b[39m\n",
      "\u001b[90m│  \u001b[39m %35 = Base.not_int(%34)\u001b[36m::Bool\u001b[39m\n",
      "\u001b[90m└──\u001b[39m       goto #4 if not %35\n",
      "\u001b[90m2 ┄\u001b[39m %37 = @_14::Tuple{Int64,Int64}\u001b[36m::Tuple{Int64,Int64}\u001b[39m\n",
      "\u001b[90m│  \u001b[39m       (cntry = Core.getfield(%37, 1))\n",
      "\u001b[90m│  \u001b[39m %39 = Core.getfield(%37, 2)\u001b[36m::Int64\u001b[39m\n",
      "\u001b[90m│  \u001b[39m %40 = Base.getindex(τ_matrix, cntry, Main.:(:))\u001b[36m::Array{Float64,1}\u001b[39m\n",
      "\u001b[90m│  \u001b[39m %41 = Main.:var\"'\"(%40)\u001b[36m::Adjoint{Float64,Array{Float64,1}}\u001b[39m\n",
      "\u001b[90m│  \u001b[39m %42 = Main.low_cost_supplier(z, w, %41)\u001b[36m::Tuple{Array{Float64,2},Array{CartesianIndex{2},2}}\u001b[39m\n",
      "\u001b[90m│  \u001b[39m %43 = Base.indexed_iterate(%42, 1)\u001b[36m::Core.Compiler.PartialStruct(Tuple{Array{Float64,2},Int64}, Any[Array{Float64,2}, Core.Compiler.Const(2, false)])\u001b[39m\n",
      "\u001b[90m│  \u001b[39m       (p = Core.getfield(%43, 1))\n",
      "\u001b[90m│  \u001b[39m       (@_18 = Core.getfield(%43, 2))\n",
      "\u001b[90m│  \u001b[39m %46 = Base.indexed_iterate(%42, 2, @_18::Core.Compiler.Const(2, false))\u001b[36m::Core.Compiler.PartialStruct(Tuple{Array{CartesianIndex{2},2},Int64}, Any[Array{CartesianIndex{2},2}, Core.Compiler.Const(3, false)])\u001b[39m\n",
      "\u001b[90m│  \u001b[39m       (sc = Core.getfield(%46, 1))\n",
      "\u001b[90m│  \u001b[39m %48 = Main.ces_shares(p, sc)\u001b[36m::Tuple{Float64,Array{Float64,1},Array{Float64,1}}\u001b[39m\n",
      "\u001b[90m│  \u001b[39m %49 = Base.indexed_iterate(%48, 1)\u001b[36m::Core.Compiler.PartialStruct(Tuple{Float64,Int64}, Any[Float64, Core.Compiler.Const(2, false)])\u001b[39m\n",
      "\u001b[90m│  \u001b[39m %50 = Core.getfield(%49, 1)\u001b[36m::Float64\u001b[39m\n",
      "\u001b[90m│  \u001b[39m       Base.setindex!(price_index, %50, cntry)\n",
      "\u001b[90m│  \u001b[39m       (@_19 = Core.getfield(%49, 2))\n",
      "\u001b[90m│  \u001b[39m %53 = Base.indexed_iterate(%48, 2, @_19::Core.Compiler.Const(2, false))\u001b[36m::Core.Compiler.PartialStruct(Tuple{Array{Float64,1},Int64}, Any[Array{Float64,1}, Core.Compiler.Const(3, false)])\u001b[39m\n",
      "\u001b[90m│  \u001b[39m %54 = Core.getfield(%53, 1)\u001b[36m::Array{Float64,1}\u001b[39m\n",
      "\u001b[90m│  \u001b[39m       Base.setindex!(trade_shares, %54, cntry, Main.:(:))\n",
      "\u001b[90m│  \u001b[39m       (@_19 = Core.getfield(%53, 2))\n",
      "\u001b[90m│  \u001b[39m %57 = Base.indexed_iterate(%48, 3, @_19::Core.Compiler.Const(3, false))\u001b[36m::Core.Compiler.PartialStruct(Tuple{Array{Float64,1},Int64}, Any[Array{Float64,1}, Core.Compiler.Const(4, false)])\u001b[39m\n",
      "\u001b[90m│  \u001b[39m %58 = Core.getfield(%57, 1)\u001b[36m::Array{Float64,1}\u001b[39m\n",
      "\u001b[90m│  \u001b[39m       Base.setindex!(source_prob, %58, cntry, Main.:(:))\n",
      "\u001b[90m│  \u001b[39m       Base.setindex!(source_country, sc, Main.:(:), cntry)\n",
      "\u001b[90m│  \u001b[39m       (@_14 = Base.iterate(%32, %39))\n",
      "\u001b[90m│  \u001b[39m %62 = (@_14 === nothing)\u001b[36m::Bool\u001b[39m\n",
      "\u001b[90m│  \u001b[39m %63 = Base.not_int(%62)\u001b[36m::Bool\u001b[39m\n",
      "\u001b[90m└──\u001b[39m       goto #4 if not %63\n",
      "\u001b[90m3 ─\u001b[39m       goto #2\n",
      "\u001b[90m4 ┄\u001b[39m %66 = Base.broadcasted(Main.:*, L, w)\u001b[36m::Base.Broadcast.Broadcasted{Base.Broadcast.DefaultArrayStyle{2},Nothing,typeof(*),Tuple{Array{Float64,2},Array{Float64,2}}}\u001b[39m\n",
      "\u001b[90m│  \u001b[39m %67 = Base.materialize(%66)\u001b[36m::Array{Float64,2}\u001b[39m\n",
      "\u001b[90m│  \u001b[39m       (value_expenditure = %67 * trade_shares)\n",
      "\u001b[90m│  \u001b[39m %69 = Base.broadcasted(Main.:*, L, w)\u001b[36m::Base.Broadcast.Broadcasted{Base.Broadcast.DefaultArrayStyle{2},Nothing,typeof(*),Tuple{Array{Float64,2},Array{Float64,2}}}\u001b[39m\n",
      "\u001b[90m│  \u001b[39m       (value_production = Base.materialize(%69))\n",
      "\u001b[90m│  \u001b[39m %71 = (value_production - value_expenditure)\u001b[36m::Array{Float64,2}\u001b[39m\n",
      "\u001b[90m│  \u001b[39m %72 = Main.norm(%71)\u001b[36m::Float64\u001b[39m\n",
      "\u001b[90m│  \u001b[39m %73 = trade_shares\u001b[36m::Array{Float64,2}\u001b[39m\n",
      "\u001b[90m│  \u001b[39m %74 = price_index\u001b[36m::Array{Float64,2}\u001b[39m\n",
      "\u001b[90m│  \u001b[39m %75 = source_country\u001b[36m::Array{CartesianIndex{2},2}\u001b[39m\n",
      "\u001b[90m│  \u001b[39m %76 = Core.tuple(%72, %73, %74, %75, source_prob)\u001b[36m::Tuple{Float64,Array{Float64,2},Array{Float64,2},Array{CartesianIndex{2},2},Array{Float64,2}}\u001b[39m\n",
      "\u001b[90m└──\u001b[39m       return %76\n"
     ]
    }
   ],
   "source": [
    "@code_warntype equillibrium_evaluate(w, z, model_params)"
   ]
  },
  {
   "cell_type": "code",
   "execution_count": 32,
   "metadata": {},
   "outputs": [
    {
     "name": "stdout",
     "output_type": "stream",
     "text": [
      "  6.709 ms (82 allocations: 15.64 MiB)\n"
     ]
    },
    {
     "data": {
      "text/plain": [
       "(2.1416585547327893e-9, [0.8192570833933529 0.1807429166066469; 0.1482656420018533 0.8517343579981468], [0.7762230565878647 0.7603160725099696], CartesianIndex{2}[CartesianIndex(1, 1) CartesianIndex(1, 2); CartesianIndex(2, 1) CartesianIndex(2, 2); … ; CartesianIndex(99999, 2) CartesianIndex(99999, 2); CartesianIndex(100000, 1) CartesianIndex(100000, 2)])"
      ]
     },
     "execution_count": 32,
     "metadata": {},
     "output_type": "execute_result"
    }
   ],
   "source": [
    "@btime equillibrium_evaluate(([1.0 result.minimizer]), z, L, tau_matrix)"
   ]
  },
  {
   "cell_type": "code",
   "execution_count": null,
   "metadata": {},
   "outputs": [],
   "source": []
  }
 ],
 "metadata": {
  "kernelspec": {
   "display_name": "Julia 1.5.4",
   "language": "julia",
   "name": "julia-1.5"
  },
  "language_info": {
   "file_extension": ".jl",
   "mimetype": "application/julia",
   "name": "julia",
   "version": "1.5.4"
  }
 },
 "nbformat": 4,
 "nbformat_minor": 5
}
