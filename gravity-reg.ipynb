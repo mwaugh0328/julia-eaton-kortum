{
 "cells": [
  {
   "cell_type": "code",
   "execution_count": 77,
   "metadata": {},
   "outputs": [
    {
     "name": "stderr",
     "output_type": "stream",
     "text": [
      "┌ Info: Precompiling CuArrays [3a865a2d-5b23-5a0f-bc46-62713ec82fae]\n",
      "└ @ Base loading.jl:1278\n"
     ]
    }
   ],
   "source": [
    "using DataFrames, RDatasets, FixedEffectModels\n",
    "using CSV, HTTP\n",
    "using CuArrays"
   ]
  },
  {
   "cell_type": "code",
   "execution_count": 35,
   "metadata": {},
   "outputs": [
    {
     "data": {
      "text/plain": [
       "                             Fixed Effect Model                             \n",
       "=============================================================================\n",
       "Number of obs:                   1380   Degrees of freedom:                32\n",
       "R2:                             0.803   R2 Adjusted:                    0.799\n",
       "F-Stat:                        11.615   p-value:                        0.001\n",
       "R2 within:                      0.140   Iterations:                         5\n",
       "=============================================================================\n",
       "log(Sales) |    Estimate  Std.Error  t value Pr(>|t|)   Lower 95%   Upper 95%\n",
       "-----------------------------------------------------------------------------\n",
       "NDI        | -4.29493e-5 1.26022e-5 -3.40808    0.001 -6.76713e-5 -1.82273e-5\n",
       "=============================================================================\n"
      ]
     },
     "execution_count": 35,
     "metadata": {},
     "output_type": "execute_result"
    }
   ],
   "source": [
    "# This is the basic Fixed effects example. It has like he formula approch like \n",
    "# in python moduals....\n",
    "df = dataset(\"plm\", \"Cigar\")\n",
    "reg(df, @formula(log(Sales) ~ NDI + fe(State) + fe(Year)), Vcov.cluster(:State), weights = :Pop)"
   ]
  },
  {
   "cell_type": "code",
   "execution_count": null,
   "metadata": {},
   "outputs": [],
   "source": [
    "# I have a gravity dataset setup on my github site. So first you have to grab it \n",
    "# with the HTTP package\n",
    "\n",
    "f = HTTP.get(\"https://raw.githubusercontent.com/mwaugh0328/Gravity-Estimation/master/gravity_data.csv\").body;\n",
    "\n",
    "# Then this converts the bytes to a \"csv\" file\n",
    "\n",
    "csv = CSV.File(f);\n",
    "\n",
    "# Then this creates the dataframe from the csv file\n",
    "\n",
    "df = DataFrame(csv);\n",
    "\n",
    "# this final bit then renames the columns based on there location. Not \n",
    "# as slick as pandas \n",
    "\n",
    "rename!(df, [1 => :importer, 2 => :exporter, 3 => :trade_data,\n",
    "        4 => :distance, 5 => :border])"
   ]
  },
  {
   "cell_type": "code",
   "execution_count": 57,
   "metadata": {},
   "outputs": [],
   "source": [
    "# This does some filtering drop the one values\n",
    "# drop the zero trade observations. \n",
    "# note the ! which automatically changes the df\n",
    "\n",
    "filter!(row -> row.trade_data != 1.0, df);\n",
    "\n",
    "filter!(row -> row.trade_data != 0.0, df);"
   ]
  },
  {
   "cell_type": "code",
   "execution_count": 85,
   "metadata": {},
   "outputs": [
    {
     "data": {
      "text/plain": [
       "                            Fixed Effect Model                            \n",
       "==========================================================================\n",
       "Number of obs:                   866  Degrees of freedom:               62\n",
       "R2:                            0.876  R2 Adjusted:                   0.866\n",
       "F-Stat:                      528.187  p-value:                       0.000\n",
       "R2 within:                     0.568  Iterations:                        5\n",
       "==========================================================================\n",
       "log(trade_data) |  Estimate Std.Error t value Pr(>|t|) Lower 95% Upper 95%\n",
       "--------------------------------------------------------------------------\n",
       "log(distance)   | -0.992491 0.0383587 -25.874    0.000  -1.06779 -0.917197\n",
       "border          |  0.301892  0.112216 2.69028    0.007 0.0816217  0.522163\n",
       "==========================================================================\n"
      ]
     },
     "execution_count": 85,
     "metadata": {},
     "output_type": "execute_result"
    }
   ],
   "source": [
    "outreg = reg(df, @formula(log(trade_data) ~ fe(importer) + fe(exporter) + log(distance) + border), save = true)"
   ]
  },
  {
   "cell_type": "code",
   "execution_count": 86,
   "metadata": {},
   "outputs": [
    {
     "data": {
      "text/html": [
       "<table class=\"data-frame\"><thead><tr><th></th><th>importer</th><th>exporter</th><th>fe_importer</th><th>fe_exporter</th></tr><tr><th></th><th>Int64</th><th>Int64</th><th>Float64?</th><th>Float64?</th></tr></thead><tbody><p>10 rows × 4 columns</p><tr><th>1</th><td>1</td><td>2</td><td>2.64295</td><td>-0.326149</td></tr><tr><th>2</th><td>1</td><td>3</td><td>2.64295</td><td>-0.817882</td></tr><tr><th>3</th><td>1</td><td>4</td><td>2.64295</td><td>0.802891</td></tr><tr><th>4</th><td>1</td><td>5</td><td>2.64295</td><td>0.434928</td></tr><tr><th>5</th><td>1</td><td>6</td><td>2.64295</td><td>-0.109777</td></tr><tr><th>6</th><td>1</td><td>7</td><td>2.64295</td><td>2.19209</td></tr><tr><th>7</th><td>1</td><td>8</td><td>2.64295</td><td>-1.5925</td></tr><tr><th>8</th><td>1</td><td>9</td><td>2.64295</td><td>-0.824852</td></tr><tr><th>9</th><td>1</td><td>10</td><td>2.64295</td><td>0.867375</td></tr><tr><th>10</th><td>1</td><td>11</td><td>2.64295</td><td>1.79542</td></tr></tbody></table>"
      ],
      "text/latex": [
       "\\begin{tabular}{r|cccc}\n",
       "\t& importer & exporter & fe\\_importer & fe\\_exporter\\\\\n",
       "\t\\hline\n",
       "\t& Int64 & Int64 & Float64? & Float64?\\\\\n",
       "\t\\hline\n",
       "\t1 & 1 & 2 & 2.64295 & -0.326149 \\\\\n",
       "\t2 & 1 & 3 & 2.64295 & -0.817882 \\\\\n",
       "\t3 & 1 & 4 & 2.64295 & 0.802891 \\\\\n",
       "\t4 & 1 & 5 & 2.64295 & 0.434928 \\\\\n",
       "\t5 & 1 & 6 & 2.64295 & -0.109777 \\\\\n",
       "\t6 & 1 & 7 & 2.64295 & 2.19209 \\\\\n",
       "\t7 & 1 & 8 & 2.64295 & -1.5925 \\\\\n",
       "\t8 & 1 & 9 & 2.64295 & -0.824852 \\\\\n",
       "\t9 & 1 & 10 & 2.64295 & 0.867375 \\\\\n",
       "\t10 & 1 & 11 & 2.64295 & 1.79542 \\\\\n",
       "\\end{tabular}\n"
      ],
      "text/plain": [
       "\u001b[1m10×4 DataFrame\u001b[0m\n",
       "\u001b[1m Row \u001b[0m│\u001b[1m importer \u001b[0m\u001b[1m exporter \u001b[0m\u001b[1m fe_importer \u001b[0m\u001b[1m fe_exporter \u001b[0m\n",
       "\u001b[1m     \u001b[0m│\u001b[90m Int64    \u001b[0m\u001b[90m Int64    \u001b[0m\u001b[90m Float64?    \u001b[0m\u001b[90m Float64?    \u001b[0m\n",
       "─────┼──────────────────────────────────────────────\n",
       "   1 │        1         2      2.64295    -0.326149\n",
       "   2 │        1         3      2.64295    -0.817882\n",
       "   3 │        1         4      2.64295     0.802891\n",
       "   4 │        1         5      2.64295     0.434928\n",
       "   5 │        1         6      2.64295    -0.109777\n",
       "   6 │        1         7      2.64295     2.19209\n",
       "   7 │        1         8      2.64295    -1.5925\n",
       "   8 │        1         9      2.64295    -0.824852\n",
       "   9 │        1        10      2.64295     0.867375\n",
       "  10 │        1        11      2.64295     1.79542"
      ]
     },
     "execution_count": 86,
     "metadata": {},
     "output_type": "execute_result"
    }
   ],
   "source": [
    "# then the outreg.fe is a dataframe with the fixed effects lined\n",
    "# up with the names. This is cool. Easy now todo model stuff with it.\n",
    "# must have save = true to do this\n",
    "\n",
    "first(outreg.fe, 10)"
   ]
  },
  {
   "cell_type": "code",
   "execution_count": null,
   "metadata": {},
   "outputs": [],
   "source": []
  }
 ],
 "metadata": {
  "kernelspec": {
   "display_name": "Julia 1.5.4",
   "language": "julia",
   "name": "julia-1.5"
  },
  "language_info": {
   "file_extension": ".jl",
   "mimetype": "application/julia",
   "name": "julia",
   "version": "1.5.4"
  }
 },
 "nbformat": 4,
 "nbformat_minor": 4
}
