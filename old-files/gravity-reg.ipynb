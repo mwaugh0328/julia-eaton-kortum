{
 "cells": [
  {
   "cell_type": "code",
   "execution_count": 1,
   "metadata": {},
   "outputs": [],
   "source": [
    "using DataFrames, RDatasets, FixedEffectModels\n",
    "using BenchmarkTools\n",
    "using CSV, HTTP"
   ]
  },
  {
   "cell_type": "code",
   "execution_count": 2,
   "metadata": {},
   "outputs": [
    {
     "name": "stdout",
     "output_type": "stream",
     "text": [
      "\u001b[?25h36m\u001b[1mDemean Variables:\u001b[22m\u001b[39m [================>                ]  1/2 [================================>]  2/2\u001b[2K  447.800 μs (2225 allocations: 305.66 KiB)\n"
     ]
    },
    {
     "data": {
      "text/plain": [
       "                             Fixed Effect Model                             \n",
       "=============================================================================\n",
       "Number of obs:                   1380   Degrees of freedom:                32\n",
       "R2:                             0.803   R2 Adjusted:                    0.799\n",
       "F-Stat:                        11.615   p-value:                        0.001\n",
       "R2 within:                      0.140   Iterations:                         5\n",
       "=============================================================================\n",
       "log(Sales) |    Estimate  Std.Error  t value Pr(>|t|)   Lower 95%   Upper 95%\n",
       "-----------------------------------------------------------------------------\n",
       "NDI        | -4.29493e-5 1.26022e-5 -3.40808    0.001 -6.76713e-5 -1.82273e-5\n",
       "=============================================================================\n"
      ]
     },
     "execution_count": 2,
     "metadata": {},
     "output_type": "execute_result"
    }
   ],
   "source": [
    "# This is the basic Fixed effects example. It has like he formula approch like \n",
    "# in python moduals....\n",
    "df = dataset(\"plm\", \"Cigar\")\n",
    "@btime reg(df, @formula(log(Sales) ~ NDI + fe(State) + fe(Year)), Vcov.cluster(:State), weights = :Pop)"
   ]
  },
  {
   "cell_type": "code",
   "execution_count": 150,
   "metadata": {},
   "outputs": [
    {
     "data": {
      "text/html": [
       "<table class=\"data-frame\"><thead><tr><th></th><th>importer</th><th>exporter</th><th>trade_data</th><th>distance</th><th>border</th></tr><tr><th></th><th>Int64</th><th>Int64</th><th>Float64</th><th>Float64</th><th>Int64</th></tr></thead><tbody><p>10 rows × 5 columns</p><tr><th>1</th><td>1</td><td>2</td><td>0.000209176</td><td>7333.02</td><td>0</td></tr><tr><th>2</th><td>1</td><td>3</td><td>0.000901651</td><td>7353.16</td><td>0</td></tr><tr><th>3</th><td>1</td><td>4</td><td>0.00470273</td><td>7038.12</td><td>0</td></tr><tr><th>4</th><td>1</td><td>5</td><td>0.077198</td><td>1050.78</td><td>1</td></tr><tr><th>5</th><td>1</td><td>6</td><td>0.00122796</td><td>5573.76</td><td>0</td></tr><tr><th>6</th><td>1</td><td>7</td><td>0.0156956</td><td>11990.9</td><td>0</td></tr><tr><th>7</th><td>1</td><td>8</td><td>0.000420131</td><td>7355.06</td><td>0</td></tr><tr><th>8</th><td>1</td><td>9</td><td>0.000694624</td><td>8059.99</td><td>0</td></tr><tr><th>9</th><td>1</td><td>10</td><td>0.00693367</td><td>6879.98</td><td>0</td></tr><tr><th>10</th><td>1</td><td>11</td><td>0.0119252</td><td>7153.31</td><td>0</td></tr></tbody></table>"
      ],
      "text/latex": [
       "\\begin{tabular}{r|ccccc}\n",
       "\t& importer & exporter & trade\\_data & distance & border\\\\\n",
       "\t\\hline\n",
       "\t& Int64 & Int64 & Float64 & Float64 & Int64\\\\\n",
       "\t\\hline\n",
       "\t1 & 1 & 2 & 0.000209176 & 7333.02 & 0 \\\\\n",
       "\t2 & 1 & 3 & 0.000901651 & 7353.16 & 0 \\\\\n",
       "\t3 & 1 & 4 & 0.00470273 & 7038.12 & 0 \\\\\n",
       "\t4 & 1 & 5 & 0.077198 & 1050.78 & 1 \\\\\n",
       "\t5 & 1 & 6 & 0.00122796 & 5573.76 & 0 \\\\\n",
       "\t6 & 1 & 7 & 0.0156956 & 11990.9 & 0 \\\\\n",
       "\t7 & 1 & 8 & 0.000420131 & 7355.06 & 0 \\\\\n",
       "\t8 & 1 & 9 & 0.000694624 & 8059.99 & 0 \\\\\n",
       "\t9 & 1 & 10 & 0.00693367 & 6879.98 & 0 \\\\\n",
       "\t10 & 1 & 11 & 0.0119252 & 7153.31 & 0 \\\\\n",
       "\\end{tabular}\n"
      ],
      "text/plain": [
       "\u001b[1m10×5 DataFrame\u001b[0m\n",
       "\u001b[1m Row \u001b[0m│\u001b[1m importer \u001b[0m\u001b[1m exporter \u001b[0m\u001b[1m trade_data  \u001b[0m\u001b[1m distance \u001b[0m\u001b[1m border \u001b[0m\n",
       "\u001b[1m     \u001b[0m│\u001b[90m Int64    \u001b[0m\u001b[90m Int64    \u001b[0m\u001b[90m Float64     \u001b[0m\u001b[90m Float64  \u001b[0m\u001b[90m Int64  \u001b[0m\n",
       "─────┼───────────────────────────────────────────────────\n",
       "   1 │        1         2  0.000209176   7333.02       0\n",
       "   2 │        1         3  0.000901651   7353.16       0\n",
       "   3 │        1         4  0.00470273    7038.12       0\n",
       "   4 │        1         5  0.077198      1050.78       1\n",
       "   5 │        1         6  0.00122796    5573.76       0\n",
       "   6 │        1         7  0.0156956    11990.9        0\n",
       "   7 │        1         8  0.000420131   7355.06       0\n",
       "   8 │        1         9  0.000694624   8059.99       0\n",
       "   9 │        1        10  0.00693367    6879.98       0\n",
       "  10 │        1        11  0.0119252     7153.31       0"
      ]
     },
     "execution_count": 150,
     "metadata": {},
     "output_type": "execute_result"
    }
   ],
   "source": [
    "# I have a gravity dataset setup on my github site. So first you have to grab it \n",
    "# with the HTTP package\n",
    "\n",
    "f = HTTP.get(\"https://raw.githubusercontent.com/mwaugh0328/Gravity-Estimation/master/gravity_data.csv\").body;\n",
    "\n",
    "# Then this converts the bytes to a \"csv\" file\n",
    "\n",
    "csv = CSV.File(f);\n",
    "\n",
    "# Then this creates the dataframe from the csv file\n",
    "\n",
    "df = DataFrame(csv);\n",
    "\n",
    "# this final bit then renames the columns based on there location. Not \n",
    "# as slick as pandas \n",
    "\n",
    "rename!(df, [1 => :importer, 2 => :exporter, 3 => :trade_data,\n",
    "        4 => :distance, 5 => :border]);\n",
    "\n",
    "first(df, 10)"
   ]
  },
  {
   "cell_type": "code",
   "execution_count": 151,
   "metadata": {},
   "outputs": [],
   "source": [
    "df.distbin = 0.0.*df.distance;\n",
    "\n",
    "df[:, :distbin] .= ifelse.(df.distance .<= 375, 1.0, df[:, :distbin]);\n",
    "\n",
    "df[:, :distbin] .= ifelse.((375 .< df.distance .<= 750), 2.0, df[:, :distbin]);\n",
    "\n",
    "df[:, :distbin] .= ifelse.((750 .< df.distance .<= 1500), 3.0, df[:, :distbin]);\n",
    "\n",
    "df[:, :distbin] .= ifelse.((1500 .< df.distance .<= 3000), 4.0, df[:, :distbin]);\n",
    "\n",
    "df[:, :distbin] .= ifelse.((3000 .< df.distance .<= 6000), 5.0, df[:, :distbin]);\n",
    "\n",
    "df[:, :distbin] .= ifelse.((6000 .< df.distance), 6.0, df[:, :distbin]);"
   ]
  },
  {
   "cell_type": "code",
   "execution_count": 152,
   "metadata": {},
   "outputs": [
    {
     "data": {
      "text/html": [
       "<table class=\"data-frame\"><thead><tr><th></th><th>importer</th><th>exporter</th><th>trade_data</th><th>distance</th><th>border</th><th>distbin</th></tr><tr><th></th><th>Int64</th><th>Int64</th><th>Float64</th><th>Float64</th><th>Int64</th><th>Float64</th></tr></thead><tbody><p>30 rows × 6 columns</p><tr><th>1</th><td>1</td><td>2</td><td>0.000209176</td><td>7333.02</td><td>0</td><td>6.0</td></tr><tr><th>2</th><td>1</td><td>3</td><td>0.000901651</td><td>7353.16</td><td>0</td><td>6.0</td></tr><tr><th>3</th><td>1</td><td>4</td><td>0.00470273</td><td>7038.12</td><td>0</td><td>6.0</td></tr><tr><th>4</th><td>1</td><td>5</td><td>0.077198</td><td>1050.78</td><td>1</td><td>3.0</td></tr><tr><th>5</th><td>1</td><td>6</td><td>0.00122796</td><td>5573.76</td><td>0</td><td>5.0</td></tr><tr><th>6</th><td>1</td><td>7</td><td>0.0156956</td><td>11990.9</td><td>0</td><td>6.0</td></tr><tr><th>7</th><td>1</td><td>8</td><td>0.000420131</td><td>7355.06</td><td>0</td><td>6.0</td></tr><tr><th>8</th><td>1</td><td>9</td><td>0.000694624</td><td>8059.99</td><td>0</td><td>6.0</td></tr><tr><th>9</th><td>1</td><td>10</td><td>0.00693367</td><td>6879.98</td><td>0</td><td>6.0</td></tr><tr><th>10</th><td>1</td><td>11</td><td>0.0119252</td><td>7153.31</td><td>0</td><td>6.0</td></tr><tr><th>11</th><td>1</td><td>12</td><td>0.000121325</td><td>7277.13</td><td>0</td><td>6.0</td></tr><tr><th>12</th><td>1</td><td>13</td><td>0.00176291</td><td>9828.8</td><td>0</td><td>6.0</td></tr><tr><th>13</th><td>1</td><td>14</td><td>0.000763973</td><td>9467.07</td><td>0</td><td>6.0</td></tr><tr><th>14</th><td>1</td><td>15</td><td>0.00746998</td><td>6942.93</td><td>0</td><td>6.0</td></tr><tr><th>15</th><td>1</td><td>16</td><td>0.0178292</td><td>11415.9</td><td>0</td><td>6.0</td></tr><tr><th>16</th><td>1</td><td>17</td><td>0.00263965</td><td>12084.0</td><td>0</td><td>6.0</td></tr><tr><th>17</th><td>1</td><td>18</td><td>0.00302497</td><td>9923.71</td><td>0</td><td>6.0</td></tr><tr><th>18</th><td>1</td><td>19</td><td>0.00836358</td><td>4596.69</td><td>0</td><td>5.0</td></tr><tr><th>19</th><td>1</td><td>20</td><td>0.000469348</td><td>7674.91</td><td>0</td><td>6.0</td></tr><tr><th>20</th><td>1</td><td>21</td><td>0.000525332</td><td>5978.74</td><td>0</td><td>5.0</td></tr><tr><th>21</th><td>1</td><td>22</td><td>0.001355</td><td>8391.84</td><td>0</td><td>6.0</td></tr><tr><th>22</th><td>1</td><td>23</td><td>0.000449638</td><td>4279.08</td><td>0</td><td>5.0</td></tr><tr><th>23</th><td>1</td><td>24</td><td>0.00560271</td><td>6254.63</td><td>0</td><td>6.0</td></tr><tr><th>24</th><td>1</td><td>25</td><td>0.00293487</td><td>7819.97</td><td>0</td><td>6.0</td></tr><tr><th>25</th><td>1</td><td>26</td><td>0.00272307</td><td>6968.37</td><td>0</td><td>6.0</td></tr><tr><th>26</th><td>1</td><td>27</td><td>0.00134276</td><td>10495.1</td><td>0</td><td>6.0</td></tr><tr><th>27</th><td>1</td><td>28</td><td>0.000244572</td><td>7623.4</td><td>0</td><td>6.0</td></tr><tr><th>28</th><td>1</td><td>29</td><td>0.0033823</td><td>6926.72</td><td>0</td><td>6.0</td></tr><tr><th>29</th><td>1</td><td>30</td><td>0.0368338</td><td>5308.18</td><td>0</td><td>5.0</td></tr><tr><th>30</th><td>2</td><td>1</td><td>0.000603407</td><td>7333.02</td><td>0</td><td>6.0</td></tr></tbody></table>"
      ],
      "text/latex": [
       "\\begin{tabular}{r|cccccc}\n",
       "\t& importer & exporter & trade\\_data & distance & border & distbin\\\\\n",
       "\t\\hline\n",
       "\t& Int64 & Int64 & Float64 & Float64 & Int64 & Float64\\\\\n",
       "\t\\hline\n",
       "\t1 & 1 & 2 & 0.000209176 & 7333.02 & 0 & 6.0 \\\\\n",
       "\t2 & 1 & 3 & 0.000901651 & 7353.16 & 0 & 6.0 \\\\\n",
       "\t3 & 1 & 4 & 0.00470273 & 7038.12 & 0 & 6.0 \\\\\n",
       "\t4 & 1 & 5 & 0.077198 & 1050.78 & 1 & 3.0 \\\\\n",
       "\t5 & 1 & 6 & 0.00122796 & 5573.76 & 0 & 5.0 \\\\\n",
       "\t6 & 1 & 7 & 0.0156956 & 11990.9 & 0 & 6.0 \\\\\n",
       "\t7 & 1 & 8 & 0.000420131 & 7355.06 & 0 & 6.0 \\\\\n",
       "\t8 & 1 & 9 & 0.000694624 & 8059.99 & 0 & 6.0 \\\\\n",
       "\t9 & 1 & 10 & 0.00693367 & 6879.98 & 0 & 6.0 \\\\\n",
       "\t10 & 1 & 11 & 0.0119252 & 7153.31 & 0 & 6.0 \\\\\n",
       "\t11 & 1 & 12 & 0.000121325 & 7277.13 & 0 & 6.0 \\\\\n",
       "\t12 & 1 & 13 & 0.00176291 & 9828.8 & 0 & 6.0 \\\\\n",
       "\t13 & 1 & 14 & 0.000763973 & 9467.07 & 0 & 6.0 \\\\\n",
       "\t14 & 1 & 15 & 0.00746998 & 6942.93 & 0 & 6.0 \\\\\n",
       "\t15 & 1 & 16 & 0.0178292 & 11415.9 & 0 & 6.0 \\\\\n",
       "\t16 & 1 & 17 & 0.00263965 & 12084.0 & 0 & 6.0 \\\\\n",
       "\t17 & 1 & 18 & 0.00302497 & 9923.71 & 0 & 6.0 \\\\\n",
       "\t18 & 1 & 19 & 0.00836358 & 4596.69 & 0 & 5.0 \\\\\n",
       "\t19 & 1 & 20 & 0.000469348 & 7674.91 & 0 & 6.0 \\\\\n",
       "\t20 & 1 & 21 & 0.000525332 & 5978.74 & 0 & 5.0 \\\\\n",
       "\t21 & 1 & 22 & 0.001355 & 8391.84 & 0 & 6.0 \\\\\n",
       "\t22 & 1 & 23 & 0.000449638 & 4279.08 & 0 & 5.0 \\\\\n",
       "\t23 & 1 & 24 & 0.00560271 & 6254.63 & 0 & 6.0 \\\\\n",
       "\t24 & 1 & 25 & 0.00293487 & 7819.97 & 0 & 6.0 \\\\\n",
       "\t25 & 1 & 26 & 0.00272307 & 6968.37 & 0 & 6.0 \\\\\n",
       "\t26 & 1 & 27 & 0.00134276 & 10495.1 & 0 & 6.0 \\\\\n",
       "\t27 & 1 & 28 & 0.000244572 & 7623.4 & 0 & 6.0 \\\\\n",
       "\t28 & 1 & 29 & 0.0033823 & 6926.72 & 0 & 6.0 \\\\\n",
       "\t29 & 1 & 30 & 0.0368338 & 5308.18 & 0 & 5.0 \\\\\n",
       "\t30 & 2 & 1 & 0.000603407 & 7333.02 & 0 & 6.0 \\\\\n",
       "\\end{tabular}\n"
      ],
      "text/plain": [
       "\u001b[1m30×6 DataFrame\u001b[0m\n",
       "\u001b[1m Row \u001b[0m│\u001b[1m importer \u001b[0m\u001b[1m exporter \u001b[0m\u001b[1m trade_data  \u001b[0m\u001b[1m distance \u001b[0m\u001b[1m border \u001b[0m\u001b[1m distbin \u001b[0m\n",
       "\u001b[1m     \u001b[0m│\u001b[90m Int64    \u001b[0m\u001b[90m Int64    \u001b[0m\u001b[90m Float64     \u001b[0m\u001b[90m Float64  \u001b[0m\u001b[90m Int64  \u001b[0m\u001b[90m Float64 \u001b[0m\n",
       "─────┼────────────────────────────────────────────────────────────\n",
       "   1 │        1         2  0.000209176   7333.02       0      6.0\n",
       "   2 │        1         3  0.000901651   7353.16       0      6.0\n",
       "   3 │        1         4  0.00470273    7038.12       0      6.0\n",
       "   4 │        1         5  0.077198      1050.78       1      3.0\n",
       "   5 │        1         6  0.00122796    5573.76       0      5.0\n",
       "   6 │        1         7  0.0156956    11990.9        0      6.0\n",
       "   7 │        1         8  0.000420131   7355.06       0      6.0\n",
       "   8 │        1         9  0.000694624   8059.99       0      6.0\n",
       "   9 │        1        10  0.00693367    6879.98       0      6.0\n",
       "  10 │        1        11  0.0119252     7153.31       0      6.0\n",
       "  11 │        1        12  0.000121325   7277.13       0      6.0\n",
       "  ⋮  │    ⋮         ⋮           ⋮          ⋮        ⋮        ⋮\n",
       "  21 │        1        22  0.001355      8391.84       0      6.0\n",
       "  22 │        1        23  0.000449638   4279.08       0      5.0\n",
       "  23 │        1        24  0.00560271    6254.63       0      6.0\n",
       "  24 │        1        25  0.00293487    7819.97       0      6.0\n",
       "  25 │        1        26  0.00272307    6968.37       0      6.0\n",
       "  26 │        1        27  0.00134276   10495.1        0      6.0\n",
       "  27 │        1        28  0.000244572   7623.4        0      6.0\n",
       "  28 │        1        29  0.0033823     6926.72       0      6.0\n",
       "  29 │        1        30  0.0368338     5308.18       0      5.0\n",
       "  30 │        2         1  0.000603407   7333.02       0      6.0\n",
       "\u001b[36m                                                    9 rows omitted\u001b[0m"
      ]
     },
     "execution_count": 152,
     "metadata": {},
     "output_type": "execute_result"
    }
   ],
   "source": [
    "first(df, 30)"
   ]
  },
  {
   "cell_type": "code",
   "execution_count": 153,
   "metadata": {},
   "outputs": [],
   "source": [
    "# This does some filtering drop the one values\n",
    "# drop the zero trade observations. \n",
    "# note the ! which automatically changes the df\n",
    "\n",
    "filter!(row -> row.trade_data != 1.0, df);\n",
    "\n",
    "filter!(row -> row.trade_data != 0.0, df);"
   ]
  },
  {
   "cell_type": "code",
   "execution_count": 163,
   "metadata": {},
   "outputs": [
    {
     "name": "stdout",
     "output_type": "stream",
     "text": [
      "  1.115649 seconds (1.15 M allocations: 65.101 MiB, 4.96% gc time)\n"
     ]
    },
    {
     "data": {
      "text/plain": [
       "                                  Linear Model                                  \n",
       "================================================================================\n",
       "Number of obs:                      866  Degrees of freedom:                  65\n",
       "R2:                               0.883  R2 Adjusted:                      0.874\n",
       "F-Stat:                         94.4922  p-value:                          0.000\n",
       "================================================================================\n",
       "log(trade_data) |   Estimate Std.Error   t value Pr(>|t|)  Lower 95%   Upper 95%\n",
       "--------------------------------------------------------------------------------\n",
       "importer: 2     |    1.00012  0.163824   6.10484    0.000   0.678543     1.32169\n",
       "importer: 3     |   0.485183   0.17022   2.85033    0.004   0.151054    0.819313\n",
       "importer: 4     |    2.23622  0.171532   13.0367    0.000    1.89951     2.57292\n",
       "importer: 5     | -0.0454859  0.164083 -0.277212    0.782   -0.36757    0.276598\n",
       "importer: 6     |   0.799009   0.16643   4.80087    0.000   0.472318      1.1257\n",
       "importer: 7     |  -0.333613   0.16706  -1.99696    0.046  -0.661541 -0.00568546\n",
       "importer: 8     |   0.506493  0.171076   2.96064    0.003   0.170684    0.842303\n",
       "importer: 9     |  0.0487824  0.169228  0.288264    0.773  -0.283401    0.380966\n",
       "importer: 10    |   -0.19791  0.170192  -1.16286    0.245  -0.531985    0.136165\n",
       "importer: 11    |   0.193016   0.17075    1.1304    0.259  -0.142154    0.528187\n",
       "importer: 12    |   0.197885  0.170123   1.16318    0.245  -0.136056    0.531825\n",
       "importer: 13    |  -0.242529   0.16822  -1.44173    0.150  -0.572733   0.0876758\n",
       "importer: 14    |  -0.393066  0.163989  -2.39691    0.017  -0.714965  -0.0711671\n",
       "importer: 15    |  -0.300445  0.170249  -1.76474    0.078  -0.634632   0.0337412\n",
       "importer: 16    |  -0.712256  0.165766  -4.29675    0.000   -1.03764   -0.386868\n",
       "importer: 17    |  -0.286421  0.167088  -1.71419    0.087  -0.614404    0.041562\n",
       "importer: 18    |    1.92766  0.165264   11.6642    0.000    1.60326     2.25206\n",
       "importer: 19    |   0.704344  0.164328    4.2862    0.000   0.381779     1.02691\n",
       "importer: 20    |  0.0936617  0.170395  0.549673    0.583  -0.240812    0.428136\n",
       "importer: 21    |   0.272068  0.169211   1.60787    0.108 -0.0600807    0.604217\n",
       "importer: 22    |  -0.482312  0.169759  -2.84116    0.005  -0.815537   -0.149087\n",
       "importer: 23    |   0.635457  0.165551   3.83844    0.000   0.310493    0.960422\n",
       "importer: 24    |    0.12622  0.168789  0.747798    0.455  -0.205101    0.457542\n",
       "importer: 25    |   0.105831  0.170067  0.622289    0.534  -0.227999    0.439661\n",
       "importer: 26    |   0.219245  0.173949    1.2604    0.208  -0.122205    0.560695\n",
       "importer: 27    |   0.146478  0.169734  0.862985    0.388  -0.186698    0.479654\n",
       "importer: 28    |  -0.138464   0.17072 -0.811054    0.418  -0.473576    0.196649\n",
       "importer: 29    |    0.50227  0.171162   2.93446    0.003    0.16629     0.83825\n",
       "importer: 30    |   0.372644  0.166349   2.24014    0.025   0.046113    0.699174\n",
       "exporter: 2     |   0.599693  0.163824    3.6606    0.000   0.278119    0.921268\n",
       "exporter: 3     |   0.356225   0.17022   2.09273    0.037  0.0220949    0.690354\n",
       "exporter: 4     |    2.03279  0.171532   11.8508    0.000    1.69608     2.36949\n",
       "exporter: 5     |    1.46029  0.164083   8.89965    0.000     1.1382     1.78237\n",
       "exporter: 6     |    1.08306   0.16643   6.50758    0.000   0.756367     1.40975\n",
       "exporter: 7     |    3.25132   0.16706    19.462    0.000    2.92339     3.57925\n",
       "exporter: 8     |   -0.38441  0.171076  -2.24702    0.025   -0.72022  -0.0486004\n",
       "exporter: 9     |    0.26103  0.169228   1.54247    0.123 -0.0711529    0.593214\n",
       "exporter: 10    |    2.02077  0.170192   11.8734    0.000    1.68669     2.35484\n",
       "exporter: 11    |    2.94726   0.17075   17.2607    0.000    2.61209     3.28243\n",
       "exporter: 12    |   -1.86811  0.170123  -10.9809    0.000   -2.20205    -1.53417\n",
       "exporter: 13    |   0.882071  0.170979   5.15894    0.000   0.546451     1.21769\n",
       "exporter: 14    |   0.954699  0.163989   5.82173    0.000     0.6328      1.2766\n",
       "exporter: 15    |    2.03043  0.170249   11.9262    0.000    1.69624     2.36461\n",
       "exporter: 16    |    3.27588  0.165766    19.762    0.000    2.95049     3.60127\n",
       "exporter: 17    |    2.12337  0.167088   12.7081    0.000    1.79539     2.45135\n",
       "exporter: 18    |    1.96009  0.165264   11.8604    0.000    1.63569     2.28449\n",
       "exporter: 19    |    0.31357  0.164328   1.90819    0.057 -0.0089949    0.636135\n",
       "exporter: 20    |  -0.255932  0.170395  -1.50199    0.133  -0.590406   0.0785423\n",
       "exporter: 21    |   -0.68003  0.169211  -4.01883    0.000   -1.01218   -0.347881\n",
       "exporter: 22    |   0.194759  0.169759   1.14727    0.252  -0.138466    0.527983\n",
       "exporter: 23    |   0.613892  0.165551   3.70818    0.000   0.288928    0.938857\n",
       "exporter: 24    |    1.16083  0.168789   6.87737    0.000   0.829506     1.49215\n",
       "exporter: 25    |   0.964001  0.170067   5.66836    0.000   0.630171     1.29783\n",
       "exporter: 26    |   0.842102  0.172295   4.88757    0.000     0.5039      1.1803\n",
       "exporter: 27    |    1.10392   0.16836   6.55688    0.000   0.773437     1.43439\n",
       "exporter: 28    |  -0.284272   0.17072  -1.66513    0.096  -0.619385     0.05084\n",
       "exporter: 29    |    1.90719  0.171162   11.1426    0.000    1.57121     2.24317\n",
       "exporter: 30    |    3.63487  0.166349   21.8509    0.000    3.30834      3.9614\n",
       "distbin: 2.0    |  -0.224933  0.144652  -1.55499    0.120  -0.508875     0.05901\n",
       "distbin: 3.0    |  -0.296112  0.153037  -1.93491    0.053  -0.596513  0.00428868\n",
       "distbin: 4.0    |  -0.917897  0.175599  -5.22723    0.000   -1.26259   -0.573209\n",
       "distbin: 5.0    |   -2.07828  0.157245  -13.2168    0.000   -2.38694    -1.76962\n",
       "distbin: 6.0    |   -2.44264  0.165455  -14.7631    0.000   -2.76741    -2.11786\n",
       "border          |   0.771749  0.121929    6.3295    0.000   0.532411     1.01109\n",
       "(Intercept)     |   -4.94697  0.247187  -20.0131    0.000   -5.43218    -4.46176\n",
       "================================================================================\n"
      ]
     },
     "execution_count": 163,
     "metadata": {},
     "output_type": "execute_result"
    }
   ],
   "source": [
    "@time outreg = reg(df, @formula(log(trade_data) ~ importer + exporter + \n",
    "         distbin + border), save = true,\n",
    "        ; contrasts = Dict(:importer => DummyCoding(base = 1.0), :exporter => DummyCoding(base = 1.0),\n",
    "        :distbin => DummyCoding(base = 1.0)))\n",
    "\n",
    "# this does the more standard dummy variable, vs. fixed effects. Whats the difference?"
   ]
  },
  {
   "cell_type": "code",
   "execution_count": 182,
   "metadata": {},
   "outputs": [
    {
     "name": "stdout",
     "output_type": "stream",
     "text": [
      "  1.752851 seconds (1.75 M allocations: 89.787 MiB, 4.11% gc time)\n"
     ]
    },
    {
     "data": {
      "text/plain": [
       "                           Fixed Effect Model                           \n",
       "=========================================================================\n",
       "Number of obs:                  866   Degrees of freedom:              67\n",
       "R2:                           0.883   R2 Adjusted:                  0.873\n",
       "F-Stat:                     39.9625   p-value:                      0.000\n",
       "R2 within:                    0.048   Iterations:                      12\n",
       "=========================================================================\n",
       "log(trade_data) | Estimate Std.Error t value Pr(>|t|) Lower 95% Upper 95%\n",
       "-------------------------------------------------------------------------\n",
       "border          | 0.771749  0.122081 6.32159    0.000  0.532111   1.01139\n",
       "=========================================================================\n"
      ]
     },
     "execution_count": 182,
     "metadata": {},
     "output_type": "execute_result"
    }
   ],
   "source": [
    "@time outreg = reg(df, @formula(log(trade_data) ~ fe(importer) + fe(exporter) + \n",
    "         fe(distbin) + border), save = true)"
   ]
  },
  {
   "cell_type": "code",
   "execution_count": 200,
   "metadata": {},
   "outputs": [
    {
     "data": {
      "text/plain": [
       "-7.38961"
      ]
     },
     "execution_count": 200,
     "metadata": {},
     "output_type": "execute_result"
    }
   ],
   "source": [
    "-4.94697 + -2.44264"
   ]
  },
  {
   "cell_type": "code",
   "execution_count": 168,
   "metadata": {},
   "outputs": [
    {
     "data": {
      "text/plain": [
       "-7.385"
      ]
     },
     "execution_count": 168,
     "metadata": {},
     "output_type": "execute_result"
    }
   ],
   "source": [
    "-1.44933 + -4.856 + -1.08"
   ]
  },
  {
   "cell_type": "code",
   "execution_count": 194,
   "metadata": {},
   "outputs": [
    {
     "ename": "LoadError",
     "evalue": "\u001b[91mUndefVarError: trade_data not defined\u001b[39m",
     "output_type": "error",
     "traceback": [
      "\u001b[91mUndefVarError: trade_data not defined\u001b[39m",
      "",
      "Stacktrace:",
      " [1] top-level scope at In[194]:1",
      " [2] include_string(::Function, ::Module, ::String, ::String) at .\\loading.jl:1091"
     ]
    }
   ],
   "source": [
    "outreg.formula_predict(log(trade_data), df)"
   ]
  },
  {
   "cell_type": "code",
   "execution_count": 202,
   "metadata": {},
   "outputs": [
    {
     "data": {
      "text/plain": [
       "-7.38961"
      ]
     },
     "execution_count": 202,
     "metadata": {},
     "output_type": "execute_result"
    }
   ],
   "source": [
    "-1.44933 + (-4.8569) + (-1.08338)"
   ]
  },
  {
   "cell_type": "code",
   "execution_count": 201,
   "metadata": {},
   "outputs": [
    {
     "data": {
      "text/html": [
       "<table class=\"data-frame\"><thead><tr><th></th><th>importer</th><th>exporter</th><th>distbin</th><th>fe_importer</th><th>fe_exporter</th><th>fe_distbin</th></tr><tr><th></th><th>Int64</th><th>Int64</th><th>Float64</th><th>Float64?</th><th>Float64?</th><th>Float64?</th></tr></thead><tbody><p>30 rows × 6 columns</p><tr><th>1</th><td>1</td><td>2</td><td>6.0</td><td>-4.8569</td><td>-0.483684</td><td>-1.44933</td></tr><tr><th>2</th><td>1</td><td>3</td><td>6.0</td><td>-4.8569</td><td>-0.727153</td><td>-1.44933</td></tr><tr><th>3</th><td>1</td><td>4</td><td>6.0</td><td>-4.8569</td><td>0.949411</td><td>-1.44933</td></tr><tr><th>4</th><td>1</td><td>5</td><td>3.0</td><td>-4.8569</td><td>0.376908</td><td>0.697198</td></tr><tr><th>5</th><td>1</td><td>6</td><td>5.0</td><td>-4.8569</td><td>-0.000320605</td><td>-1.08497</td></tr><tr><th>6</th><td>1</td><td>7</td><td>6.0</td><td>-4.8569</td><td>2.16794</td><td>-1.44933</td></tr><tr><th>7</th><td>1</td><td>8</td><td>6.0</td><td>-4.8569</td><td>-1.46779</td><td>-1.44933</td></tr><tr><th>8</th><td>1</td><td>9</td><td>6.0</td><td>-4.8569</td><td>-0.822348</td><td>-1.44933</td></tr><tr><th>9</th><td>1</td><td>10</td><td>6.0</td><td>-4.8569</td><td>0.937389</td><td>-1.44933</td></tr><tr><th>10</th><td>1</td><td>11</td><td>6.0</td><td>-4.8569</td><td>1.86388</td><td>-1.44933</td></tr><tr><th>11</th><td>1</td><td>12</td><td>6.0</td><td>-4.8569</td><td>-2.95149</td><td>-1.44933</td></tr><tr><th>12</th><td>1</td><td>13</td><td>6.0</td><td>-4.8569</td><td>-0.201306</td><td>-1.44933</td></tr><tr><th>13</th><td>1</td><td>14</td><td>6.0</td><td>-4.8569</td><td>-0.128679</td><td>-1.44933</td></tr><tr><th>14</th><td>1</td><td>15</td><td>6.0</td><td>-4.8569</td><td>0.947048</td><td>-1.44933</td></tr><tr><th>15</th><td>1</td><td>16</td><td>6.0</td><td>-4.8569</td><td>2.1925</td><td>-1.44933</td></tr><tr><th>16</th><td>1</td><td>17</td><td>6.0</td><td>-4.8569</td><td>1.03999</td><td>-1.44933</td></tr><tr><th>17</th><td>1</td><td>18</td><td>6.0</td><td>-4.8569</td><td>0.876713</td><td>-1.44933</td></tr><tr><th>18</th><td>1</td><td>19</td><td>5.0</td><td>-4.8569</td><td>-0.769808</td><td>-1.08497</td></tr><tr><th>19</th><td>1</td><td>20</td><td>6.0</td><td>-4.8569</td><td>-1.33931</td><td>-1.44933</td></tr><tr><th>20</th><td>1</td><td>21</td><td>5.0</td><td>-4.8569</td><td>-1.76341</td><td>-1.08497</td></tr><tr><th>21</th><td>1</td><td>22</td><td>6.0</td><td>-4.8569</td><td>-0.888619</td><td>-1.44933</td></tr><tr><th>22</th><td>1</td><td>23</td><td>5.0</td><td>-4.8569</td><td>-0.469486</td><td>-1.08497</td></tr><tr><th>23</th><td>1</td><td>24</td><td>6.0</td><td>-4.8569</td><td>0.0774497</td><td>-1.44933</td></tr><tr><th>24</th><td>1</td><td>25</td><td>6.0</td><td>-4.8569</td><td>-0.119377</td><td>-1.44933</td></tr><tr><th>25</th><td>1</td><td>26</td><td>6.0</td><td>-4.8569</td><td>-0.241275</td><td>-1.44933</td></tr><tr><th>26</th><td>1</td><td>27</td><td>6.0</td><td>-4.8569</td><td>0.0205389</td><td>-1.44933</td></tr><tr><th>27</th><td>1</td><td>28</td><td>6.0</td><td>-4.8569</td><td>-1.36765</td><td>-1.44933</td></tr><tr><th>28</th><td>1</td><td>29</td><td>6.0</td><td>-4.8569</td><td>0.823811</td><td>-1.44933</td></tr><tr><th>29</th><td>1</td><td>30</td><td>5.0</td><td>-4.8569</td><td>2.55149</td><td>-1.08497</td></tr><tr><th>30</th><td>2</td><td>1</td><td>6.0</td><td>-3.85678</td><td>-1.08338</td><td>-1.44933</td></tr></tbody></table>"
      ],
      "text/latex": [
       "\\begin{tabular}{r|cccccc}\n",
       "\t& importer & exporter & distbin & fe\\_importer & fe\\_exporter & fe\\_distbin\\\\\n",
       "\t\\hline\n",
       "\t& Int64 & Int64 & Float64 & Float64? & Float64? & Float64?\\\\\n",
       "\t\\hline\n",
       "\t1 & 1 & 2 & 6.0 & -4.8569 & -0.483684 & -1.44933 \\\\\n",
       "\t2 & 1 & 3 & 6.0 & -4.8569 & -0.727153 & -1.44933 \\\\\n",
       "\t3 & 1 & 4 & 6.0 & -4.8569 & 0.949411 & -1.44933 \\\\\n",
       "\t4 & 1 & 5 & 3.0 & -4.8569 & 0.376908 & 0.697198 \\\\\n",
       "\t5 & 1 & 6 & 5.0 & -4.8569 & -0.000320605 & -1.08497 \\\\\n",
       "\t6 & 1 & 7 & 6.0 & -4.8569 & 2.16794 & -1.44933 \\\\\n",
       "\t7 & 1 & 8 & 6.0 & -4.8569 & -1.46779 & -1.44933 \\\\\n",
       "\t8 & 1 & 9 & 6.0 & -4.8569 & -0.822348 & -1.44933 \\\\\n",
       "\t9 & 1 & 10 & 6.0 & -4.8569 & 0.937389 & -1.44933 \\\\\n",
       "\t10 & 1 & 11 & 6.0 & -4.8569 & 1.86388 & -1.44933 \\\\\n",
       "\t11 & 1 & 12 & 6.0 & -4.8569 & -2.95149 & -1.44933 \\\\\n",
       "\t12 & 1 & 13 & 6.0 & -4.8569 & -0.201306 & -1.44933 \\\\\n",
       "\t13 & 1 & 14 & 6.0 & -4.8569 & -0.128679 & -1.44933 \\\\\n",
       "\t14 & 1 & 15 & 6.0 & -4.8569 & 0.947048 & -1.44933 \\\\\n",
       "\t15 & 1 & 16 & 6.0 & -4.8569 & 2.1925 & -1.44933 \\\\\n",
       "\t16 & 1 & 17 & 6.0 & -4.8569 & 1.03999 & -1.44933 \\\\\n",
       "\t17 & 1 & 18 & 6.0 & -4.8569 & 0.876713 & -1.44933 \\\\\n",
       "\t18 & 1 & 19 & 5.0 & -4.8569 & -0.769808 & -1.08497 \\\\\n",
       "\t19 & 1 & 20 & 6.0 & -4.8569 & -1.33931 & -1.44933 \\\\\n",
       "\t20 & 1 & 21 & 5.0 & -4.8569 & -1.76341 & -1.08497 \\\\\n",
       "\t21 & 1 & 22 & 6.0 & -4.8569 & -0.888619 & -1.44933 \\\\\n",
       "\t22 & 1 & 23 & 5.0 & -4.8569 & -0.469486 & -1.08497 \\\\\n",
       "\t23 & 1 & 24 & 6.0 & -4.8569 & 0.0774497 & -1.44933 \\\\\n",
       "\t24 & 1 & 25 & 6.0 & -4.8569 & -0.119377 & -1.44933 \\\\\n",
       "\t25 & 1 & 26 & 6.0 & -4.8569 & -0.241275 & -1.44933 \\\\\n",
       "\t26 & 1 & 27 & 6.0 & -4.8569 & 0.0205389 & -1.44933 \\\\\n",
       "\t27 & 1 & 28 & 6.0 & -4.8569 & -1.36765 & -1.44933 \\\\\n",
       "\t28 & 1 & 29 & 6.0 & -4.8569 & 0.823811 & -1.44933 \\\\\n",
       "\t29 & 1 & 30 & 5.0 & -4.8569 & 2.55149 & -1.08497 \\\\\n",
       "\t30 & 2 & 1 & 6.0 & -3.85678 & -1.08338 & -1.44933 \\\\\n",
       "\\end{tabular}\n"
      ],
      "text/plain": [
       "\u001b[1m30×6 DataFrame\u001b[0m\n",
       "\u001b[1m Row \u001b[0m│\u001b[1m importer \u001b[0m\u001b[1m exporter \u001b[0m\u001b[1m distbin \u001b[0m\u001b[1m fe_importer \u001b[0m\u001b[1m fe_exporter  \u001b[0m\u001b[1m fe_distbin \u001b[0m\n",
       "\u001b[1m     \u001b[0m│\u001b[90m Int64    \u001b[0m\u001b[90m Int64    \u001b[0m\u001b[90m Float64 \u001b[0m\u001b[90m Float64?    \u001b[0m\u001b[90m Float64?     \u001b[0m\u001b[90m Float64?   \u001b[0m\n",
       "─────┼────────────────────────────────────────────────────────────────────\n",
       "   1 │        1         2      6.0     -4.8569   -0.483684      -1.44933\n",
       "   2 │        1         3      6.0     -4.8569   -0.727153      -1.44933\n",
       "   3 │        1         4      6.0     -4.8569    0.949411      -1.44933\n",
       "   4 │        1         5      3.0     -4.8569    0.376908       0.697198\n",
       "   5 │        1         6      5.0     -4.8569   -0.000320605   -1.08497\n",
       "   6 │        1         7      6.0     -4.8569    2.16794       -1.44933\n",
       "   7 │        1         8      6.0     -4.8569   -1.46779       -1.44933\n",
       "   8 │        1         9      6.0     -4.8569   -0.822348      -1.44933\n",
       "   9 │        1        10      6.0     -4.8569    0.937389      -1.44933\n",
       "  10 │        1        11      6.0     -4.8569    1.86388       -1.44933\n",
       "  11 │        1        12      6.0     -4.8569   -2.95149       -1.44933\n",
       "  ⋮  │    ⋮         ⋮         ⋮          ⋮            ⋮            ⋮\n",
       "  21 │        1        22      6.0     -4.8569   -0.888619      -1.44933\n",
       "  22 │        1        23      5.0     -4.8569   -0.469486      -1.08497\n",
       "  23 │        1        24      6.0     -4.8569    0.0774497     -1.44933\n",
       "  24 │        1        25      6.0     -4.8569   -0.119377      -1.44933\n",
       "  25 │        1        26      6.0     -4.8569   -0.241275      -1.44933\n",
       "  26 │        1        27      6.0     -4.8569    0.0205389     -1.44933\n",
       "  27 │        1        28      6.0     -4.8569   -1.36765       -1.44933\n",
       "  28 │        1        29      6.0     -4.8569    0.823811      -1.44933\n",
       "  29 │        1        30      5.0     -4.8569    2.55149       -1.08497\n",
       "  30 │        2         1      6.0     -3.85678  -1.08338       -1.44933\n",
       "\u001b[36m                                                            9 rows omitted\u001b[0m"
      ]
     },
     "execution_count": 201,
     "metadata": {},
     "output_type": "execute_result"
    }
   ],
   "source": [
    "# then the outreg.fe is a dataframe with the fixed effects lined\n",
    "# up with the names. This is cool. Easy now todo model stuff with it.\n",
    "# must have save = true to do this\n",
    "\n",
    "first(outreg.fe, 30)"
   ]
  },
  {
   "cell_type": "code",
   "execution_count": 137,
   "metadata": {},
   "outputs": [
    {
     "data": {
      "text/plain": [
       "0.0009118819655545162"
      ]
     },
     "execution_count": 137,
     "metadata": {},
     "output_type": "execute_result"
    }
   ],
   "source": [
    "outreg.fe"
   ]
  },
  {
   "cell_type": "code",
   "execution_count": 103,
   "metadata": {},
   "outputs": [
    {
     "name": "stdout",
     "output_type": "stream",
     "text": [
      "search: \u001b[0m\u001b[1mr\u001b[22m\u001b[0m\u001b[1me\u001b[22m\u001b[0m\u001b[1mg\u001b[22m \u001b[0m\u001b[1mR\u001b[22m\u001b[0m\u001b[1me\u001b[22m\u001b[0m\u001b[1mg\u001b[22mex \u001b[0m\u001b[1mR\u001b[22m\u001b[0m\u001b[1me\u001b[22m\u001b[0m\u001b[1mg\u001b[22mexMatch \u001b[0m\u001b[1mr\u001b[22m\u001b[0m\u001b[1me\u001b[22m\u001b[0m\u001b[1mg\u001b[22mressions \u001b[0m\u001b[1mR\u001b[22m\u001b[0m\u001b[1me\u001b[22m\u001b[0m\u001b[1mg\u001b[22mressionModel is\u001b[0m\u001b[1mr\u001b[22m\u001b[0m\u001b[1me\u001b[22m\u001b[0m\u001b[1mg\u001b[22mression out\u001b[0m\u001b[1mr\u001b[22m\u001b[0m\u001b[1me\u001b[22m\u001b[0m\u001b[1mg\u001b[22m\n",
      "\n"
     ]
    },
    {
     "data": {
      "text/latex": [
       "No documentation found.\n",
       "\n",
       "\\texttt{FixedEffectModels.reg} is a \\texttt{Function}.\n",
       "\n",
       "\\begin{verbatim}\n",
       "# 2 methods for generic function \"reg\":\n",
       "[1] reg(df, formula::FormulaTerm) in FixedEffectModels at C:\\Users\\irmew01\\.julia\\packages\\FixedEffectModels\\KIQzR\\src\\fit.jl:43\n",
       "[2] reg(df, formula::FormulaTerm, vcov::StatsBase.CovarianceEstimator; contrasts, weights, save, method, nthreads, double_precision, tol, maxiter, drop_singletons, progress_bar, dof_add, subset, first_stage) in FixedEffectModels at C:\\Users\\irmew01\\.julia\\packages\\FixedEffectModels\\KIQzR\\src\\fit.jl:43\n",
       "\\end{verbatim}\n"
      ],
      "text/markdown": [
       "No documentation found.\n",
       "\n",
       "`FixedEffectModels.reg` is a `Function`.\n",
       "\n",
       "```\n",
       "# 2 methods for generic function \"reg\":\n",
       "[1] reg(df, formula::FormulaTerm) in FixedEffectModels at C:\\Users\\irmew01\\.julia\\packages\\FixedEffectModels\\KIQzR\\src\\fit.jl:43\n",
       "[2] reg(df, formula::FormulaTerm, vcov::StatsBase.CovarianceEstimator; contrasts, weights, save, method, nthreads, double_precision, tol, maxiter, drop_singletons, progress_bar, dof_add, subset, first_stage) in FixedEffectModels at C:\\Users\\irmew01\\.julia\\packages\\FixedEffectModels\\KIQzR\\src\\fit.jl:43\n",
       "```\n"
      ],
      "text/plain": [
       "  No documentation found.\n",
       "\n",
       "  \u001b[36mFixedEffectModels.reg\u001b[39m is a \u001b[36mFunction\u001b[39m.\n",
       "\n",
       "\u001b[36m  # 2 methods for generic function \"reg\":\u001b[39m\n",
       "\u001b[36m  [1] reg(df, formula::FormulaTerm) in FixedEffectModels at C:\\Users\\irmew01\\.julia\\packages\\FixedEffectModels\\KIQzR\\src\\fit.jl:43\u001b[39m\n",
       "\u001b[36m  [2] reg(df, formula::FormulaTerm, vcov::StatsBase.CovarianceEstimator; contrasts, weights, save, method, nthreads, double_precision, tol, maxiter, drop_singletons, progress_bar, dof_add, subset, first_stage) in FixedEffectModels at C:\\Users\\irmew01\\.julia\\packages\\FixedEffectModels\\KIQzR\\src\\fit.jl:43\u001b[39m"
      ]
     },
     "execution_count": 103,
     "metadata": {},
     "output_type": "execute_result"
    }
   ],
   "source": [
    "?reg"
   ]
  },
  {
   "cell_type": "code",
   "execution_count": null,
   "metadata": {},
   "outputs": [],
   "source": []
  }
 ],
 "metadata": {
  "kernelspec": {
   "display_name": "Julia 1.5.4",
   "language": "julia",
   "name": "julia-1.5"
  },
  "language_info": {
   "file_extension": ".jl",
   "mimetype": "application/julia",
   "name": "julia",
   "version": "1.5.4"
  }
 },
 "nbformat": 4,
 "nbformat_minor": 4
}
