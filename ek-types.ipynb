{
 "cells": [
  {
   "cell_type": "code",
   "execution_count": 1,
   "id": "f5a2827d-4b61-49b8-a416-bc60729e496d",
   "metadata": {},
   "outputs": [],
   "source": [
    "using BenchmarkTools, SpecialFunctions\n",
    "using LinearAlgebra, Statistics\n",
    "using Plots\n",
    "using Random, Distributions\n",
    "gr(fmt=:png); # setting for easier display in jupyter notebooks"
   ]
  },
  {
   "cell_type": "markdown",
   "id": "1a2402e7-bb9f-488d-955f-d8596be84e19",
   "metadata": {},
   "source": [
    "**Introduction**\n",
    "\n",
    "I'm teaching myself ``julia``. The simplest way for me todo so is to work with a model that I know extremely well---the Ricardian model of Eaton and Kortum (2002). So below I will outline the economic environment and then use the properties of ``julia`` to map the fundamental, mathematical environment into a computational/quantitative outcome. \n",
    "\n",
    "Outside of performance properties, the more I reflect on this, this is a huge appeal of the ``julia`` language. We can express the code and design it in a way that most closely corresponds with the math/model. In contrast, in for example MATLAB, where the map from white board to computation is big.\n",
    "\n",
    "---\n",
    "\n",
    "**Countries.** To keep things simple, let's first work with a simple two country set up---a home and a foreign country, $h$, $f$.\n",
    "\n",
    "**Individual Goods Production.**\n",
    "Within a country, there is a continuum of intermediate goods indexed by $\\omega \\in [0, 1]$. As in the Ricardian model of \\citet{dornbusch1977comparative} and \\citet{eaton2002technology}, intermediate goods are not nationally differentiated. Thus, intermediate $\\omega$ produced in one country is a perfect substitute for the same intermediate $\\omega$ produced by another country. Competitive firms produce intermediate goods with linear production technologies:\n",
    "\n",
    "\\begin{align}\n",
    "q(\\omega) = z(\\omega) \\ell,\n",
    "\\end{align}\n",
    "\n",
    "where $z$ is the productivity level of firms and $\\ell$ is the number of efficiency units of labor. To ship a technology to another country, iceberg costs are incurred. I will write this as $\\tau_{hf}$ which is the value the home country must incur to buy from the foreign country. The notation here will correspond with the row, column format of a matrix, so for a given row all the trade costs across the different columns are the ones that they face to buy from different countries. Then the usual normalization here is that $\\tau_{hh} = 1$. Again, on the computer, this means that the diagonal entries are one."
   ]
  },
  {
   "cell_type": "markdown",
   "id": "2605aa22-7127-445a-b832-cd78c293db60",
   "metadata": {},
   "source": [
    "**The Aggregator.** In this model, intermediate goods are aggregated by a competitive final-goods producer. In Julia, what would be interesting is to make the aggregator generic and let the user specify how this works. But for know, we will follow the canonical situation with  who has a standard CES production function:\n",
    "\n",
    "\\begin{align}\n",
    "Q = \\left[ \\int_0^1 q(\\omega)^{\\frac{\\sigma - 1}{\\sigma}} d\\omega \\right]^{\\frac{\\sigma}{\\sigma - 1}},\n",
    "\\label{eq:ces}\n",
    "\\end{align}\n",
    "\n",
    "where $q(\\omega)$ is the quantity of individual intermediate goods $\\omega$ demanded by the final-goods firm, and $\\sigma$ is elasticity of substitution across variety. I want to talk through some properties/definitions related to this aggregator.\n",
    "\n",
    "- The aggregator in (\\ref{eq:ces}) gives rise to the following the demand curve (in quantities) for an individual variety:\n",
    "\n",
    "\\begin{align}\n",
    "q(\\omega) & = \\left(\\frac{p_h(\\omega)}{P_h}\\right)^{-\\sigma}Q.\n",
    "\\label{eq:demand_curve}\n",
    "\\end{align}\n",
    "\n",
    "where $Q$ is the aggregate demand for the final good; $P_h$ is the CES price index, defined below; And $p_h(\\omega)$ is the price paid by the home country for good $\\omega$ (which is not the same necessarily as the price offered by a home country supplier.\n",
    "\n",
    "- The demand curve can also be expressed in shares, not quantities. So\n",
    "\n",
    "\\begin{align}\n",
    "\\frac{p_h(\\omega)q(\\omega)}{P_h Q} & = \\left(\\frac{p_h(\\omega)}{P_h}\\right)^{1-\\sigma}.\n",
    "\\label{eq:demand_curve_share}\n",
    "\\end{align}\n",
    "\n",
    "which says that the value of of good $\\omega$ relative to total expenditures $P_h Q$ is given by the formula above. This helps as we can compute expenditure patterns while being agnostic about the actual size of the economy, i.e. $Q$. One useful relationship that builds on this is to condition on the source and aggregate to arrive at the share of goods purchased from another country. How does this work? \n",
    "\n",
    "\\begin{align}\n",
    "\\pi_{h,f} = \\int_{p_h = p_{h,f}} \\left(\\frac{p_h(\\omega)}{P_h}\\right)^{1-\\sigma} d\\omega\n",
    "\\end{align}\n",
    "\n",
    "Where the notation here $\\pi_{h,f}$ is the share of goods that the home country sources from the foreign country. This is equal do the integral over all goods purchased from them, hence, the conditioning where $p_h = p_{h,f}$ and then the inside of the brackets is the same as above. In the computer, the code will be setup with the same row, column notation. So fix a row, then as you go across the different columns you'll view the share of expenditures the, say home country, coming from other countries. \n",
    "\n",
    "A small side note: If you stare at this enough (and know the liturature), than you can start to see a gravity like relationship here without even imposing the Frechet assumption. The key issue essentially is the conditional distribution of goods prices and how it relates to the aggregate, home CES price index discussed next.\n",
    "\n",
    "- The **CES Price Index** is given by\n",
    "\n",
    "\\begin{align}\n",
    "P_h  = \\left [ \\int_{0}^{1} p_h(\\omega)^{1-\\sigma} d\\omega \\right]^{\\frac{1}{1-\\sigma}}\n",
    "\\label{eq:ces_price_index}\n",
    "\\end{align}\n",
    "\n",
    "which takes all the prices at the micro-level and the is like a harmonic mean of these prices. Also note how one can substitute \\ref{eq:ces_price_index} into the share formula to get an expression of expenditures shares purely in terms of micro-level prices."
   ]
  },
  {
   "cell_type": "markdown",
   "id": "b7dab0ab-152a-488a-aa95-aef005968d3f",
   "metadata": {},
   "source": [
    "**The Technology Distribution** \n",
    "\n",
    "This is the key component that makes Eaton and Kortum fly. First, let's be a bit more general here. One could simply think of each countries **individual productivity** draws being characterized by some distribution:\n",
    "\n",
    "\\begin{align}\n",
    "Z_h \\sim F_{h}(z)\n",
    "\\end{align}\n",
    "\n",
    "where $F_{h}$ is a well defined cumulative probability distribution with the associated pdf $f_h(z)$. What this means is for each $\\omega$ variety, in say the home country, the technology/productivity to produce that good is a random $z$ which is characterized by the distribution above. As I'll talk about below, what this allows one to think about is (i) if you hand me a distribution from which I can simulate from (ii) then with assumptions on market structure I can construct prices and (iii) with prices I can construct trade flows.\n",
    "\n",
    "Now Eaton and Kortum make a very specific distributional assumption. They use a Type II extreme value distribution also known as a Frechet:\n",
    "\n",
    "\\begin{align}\n",
    "Z_i \\sim \\exp\\left(-T_i z^{-\\theta}\\right)\n",
    "\\end{align}\n",
    "\n",
    "where the distribution is characterized by a centering parameter $T_i$ which is allowed to vary across countries and a shape parameter $\\theta$ which is assumed to be constant across countries. These assumptions are critical to the closed form characterizations in Eaton and Kortum. However, return to the discussion above. On the computer..there are only two limiting factors (i) can you simulate from the distribution and (ii) the empirical question of how to discipline the distribution from which you are simulating. \n",
    "\n",
    "**Optimization** \n",
    "\n",
    "I'm going to walk through a couple of observations about how this economy works.\n",
    "\n",
    "The first observation is that within a country, the key equilibrium price is the wage rate $w$. This wage is the same independent of the labor market / goods-producing sector / etc. This derives from the (within-country) free mobility of labor assumption (which I did not talk about). In some other notebooks, I'll relax this. But for now, labor is freely mobile and now we just need to find the wage so that labor demand equals labor supply. \n",
    "\n",
    "The second observation is that given competitive firms and that they face the wage rate $w$, we know that their marginal cost (and hence price at which they are willing to sell the good domestically) must be:\n",
    "\n",
    "\\begin{align}\n",
    "p_{h,h}(\\omega) = \\frac{w_{h}}{z_{h}(\\omega)},\n",
    "\\label{eq:ek_wage}\n",
    "\\end{align}\n",
    "\n",
    "and then the price at which they would be willing to export the good, say from home to foreign is just adjusted by the ice-berg trade costs so \n",
    "\n",
    "\\begin{align}\n",
    "p_{f,h}(\\omega) = \\frac{\\tau_{f,h} w_{h}}{z_{h}(\\omega)}.\n",
    "\\end{align}\n",
    "\n",
    "The third question is who buys what from whom? This aspect of the model is that really is just an application of the min operator. So buy the good from the country with the lowest price:\n",
    "\n",
    "\\begin{align}\n",
    "p_{h}(\\omega) = \\min\\left\\{ \\frac{w_{h}}{z_{h}(\\omega)}, \\ \\frac{\\tau_{h,f} w_{f}}{z_{f}(\\omega)} \\right\\}\n",
    "\\end{align}\n",
    "\n",
    "where the thing on the left is the domestic price, and then the thing on the right is on the world price (inclusive of the trade cost).\n",
    "\n",
    "**Computing**\n",
    "\n",
    "First, I'm going to compute this via simulation. The idea will be to think of the product space $\\omega$ as an integer on the real line which indexes the goods location. Then for each of those products, each country is randomly assigned a productivity from the distribution. Then the number of goods, so to speak, is set to be large and thus will approximate the integrals above. \n",
    "\n",
    "Given everything laid out, some wages $w_i$ and then primitives regarding technologies $T$, $\\theta$, $\\sigma$ and $\\tau$ we can directly compute the pattern of trade. This is what I do below which is comprised of several steps:\n",
    "\n",
    "- The CES function ``ces_shares`` that takes prices and sourcing decisions to compute trade shares.\n",
    "\n",
    "- A function that computes potential prices based on marginal costs, ``marginal_costs``\n",
    "\n",
    "- A function that constructs a vector of productivity for each good, across all countries, given the Frechet distribution, this is the ``make_productivity`` function. Note, future, it would be nice if the distribution type could be directly passed into this and also appropriately indexed. Maybe with a dictionary?"
   ]
  },
  {
   "cell_type": "markdown",
   "id": "4fb88261-07f9-410b-be6f-920d771a8c45",
   "metadata": {},
   "source": [
    "**Equilibrium**\n",
    "\n",
    "I'm going to present this in a way slightly different than usual. So I want to think of the wage as clearing the labor market. This implies that goods demand will equal goods supply which will reduce to balanced trade. The idea here is to build up into some later notebooks where we can think of more sophisticated labor market settings with elastic labor supply, mobility/migration frictions similar to my work with Spencer.\n",
    "\n",
    "**Labor Demand** so the key idea here is the the CES demand curve also is a labor demand curve when combined with the production function. First, consider the simple case of a closed economy. Here we have:\n",
    "\n",
    "\\begin{align}\n",
    "\\ell(\\omega) & = \\frac{1}{z(\\omega)}\\left(\\frac{w / z(\\omega)}{P_h}\\right)^{-\\sigma}Q.\n",
    "\\label{eq:labor_demand_curve}\n",
    "\\end{align}\n",
    "\n",
    "where I substituted in the price equaling marginal costs, which after pulling things out we have that\n",
    "\n",
    "\\begin{align}\n",
    "\\ell_h(\\omega) & = z_h(\\omega)^{\\sigma - 1}\\left(\\frac{w_h}{P_h} \\right)^{-\\sigma}Q.\n",
    "\\label{eq:demand_curve2}\n",
    "\\end{align}\n",
    "\n",
    "which has the inuitive idea that (i) if productivity is high or aggregate demand is high you need **more workers** and (ii) if the wage is high you demand less workers. Now let's extend this to the open economy setting. So labor demand is\n",
    "\n",
    "\\begin{align}\n",
    "\\ell_h(\\omega) & = \\underbrace{\\frac{1}{z_h(\\omega)}\\left(\\frac{w_h / z_h(\\omega)}{P_h}\\right)^{-\\sigma}Q_h}_{\\mbox{domestic demand}} \\ + \\ \\underbrace{\\frac{1}{z_h(\\omega)}\\left(\\frac{\\tau_{f,h} w_h / z_h(\\omega)}{P_f}\\right)^{-\\sigma}Q_f}_{\\mbox{foreign demand}}\n",
    "\\end{align}\n",
    "\n",
    "where again, I substituted in the price for good $\\omega$ in the domestic demand curve and (if purchased) into the foreign demand curve. Note that this is a generic representation in the sense that domestic demand and foreign demand might be zero. In this case, the good is imported from abroad. Or it might be only domesticly demanded (which in this cases the good is non traded) and then it's both bought at home and sent abroad. \n",
    "\n",
    "The one way to think about an equilibrium is we need to find a wage such labor supply equals labor demand. So \n",
    "\n",
    "\\begin{align}\n",
    "L_h = \\int \\ell_h(\\omega) d\\omega = \\int_{p_h = p_{h,h}} \\frac{1}{z(\\omega)}\\left(\\frac{w_h / z(\\omega)}{P_h}\\right)^{-\\sigma}Q_h + \\int_{p_f = p_{f,h}} \\frac{1}{z(\\omega)}\\left(\\frac{\\tau_{f,h} w_h / z(\\omega)}{P_f}\\right)^{-\\sigma}Q_f\n",
    "\\end{align}"
   ]
  },
  {
   "cell_type": "code",
   "execution_count": 2,
   "id": "6da47872-4f1f-416b-8721-fe75365f10ae",
   "metadata": {},
   "outputs": [
    {
     "data": {
      "text/plain": [
       "ces_shares (generic function with 1 method)"
      ]
     },
     "execution_count": 2,
     "metadata": {},
     "output_type": "execute_result"
    }
   ],
   "source": [
    "function ces_shares(p, source_country::Matrix{CartesianIndex{2}}, σ)\n",
    "    # this will take in (i) prices purchased at and\n",
    "    # a cartesian index that can determine country supplier\n",
    "    # then a parameter for the CES aggregator.\n",
    "    # I'm toying around with explicity typing here. Any thoughts?\n",
    "    # When presented this way. One can see how any arbitrary aggregator could be put in place.\n",
    "    \n",
    "    ngoods = length(p) # number of goods\n",
    "    \n",
    "    ncntry = ndims(source_country) # number of coutnries\n",
    "    \n",
    "    price_index = ( sum(p.^(1-σ)) / ngoods )^(1/(1-σ)) # CES price index\n",
    "    \n",
    "    # now construct the shares...\n",
    "    trade_shares = zeros(ncntry)\n",
    "    \n",
    "    source_prob = zeros(ncntry)\n",
    "    \n",
    "    for cntry = 1:ncntry\n",
    "        # This is the loop that conditions on the source country\n",
    "        # first fix a country...\n",
    "\n",
    "        supplier = [ zzz[2] == cntry for zzz in source_country ]\n",
    "        # remember that the source_country is a 2dim caartesian index which\n",
    "        # says for each good (first dimension), which country is the low cost \n",
    "        # supplyier (second country)\n",
    "        # this is then a simple inline expression saying, for each \n",
    "        # good (so every entry along the first dimension), which values in the second \n",
    "        # dimension zzz[2] are equall to the country in question \"cntry\" \n",
    "        # the result is supplier which is a vector of logicals, with true (one)\n",
    "        # values indicating that \"cntry: is the low cost supplier\n",
    "        \n",
    "        source_prob[cntry] = sum(supplier) / ngoods\n",
    "        # This will compute the simple probability of being the low cost \n",
    "        # supplier. In the Frechet model = trade share. Alternative distributional\n",
    "        # assumptions will deliver something different.\n",
    "        \n",
    "        trade_shares[cntry] = sum((p[supplier]./price_index).^(1-σ)) / ngoods\n",
    "        # then this is just the ces demand curve described above.\n",
    "        \n",
    "    end\n",
    "        \n",
    "    return price_index, trade_shares, source_prob\n",
    "\n",
    "end"
   ]
  },
  {
   "cell_type": "code",
   "execution_count": 3,
   "id": "7f2edee1-1416-4974-b9c0-df4c6e238112",
   "metadata": {},
   "outputs": [
    {
     "data": {
      "text/plain": [
       "marginal_cost (generic function with 1 method)"
      ]
     },
     "execution_count": 3,
     "metadata": {},
     "output_type": "execute_result"
    }
   ],
   "source": [
    "function marginal_cost(z, wage, τ)\n",
    "    \n",
    "    return (τ.*wage)./z\n",
    "\n",
    "end"
   ]
  },
  {
   "cell_type": "code",
   "execution_count": 4,
   "id": "2c03e099-7c49-44a1-995b-942d98e1bb1e",
   "metadata": {},
   "outputs": [
    {
     "data": {
      "text/plain": [
       "make_productity (generic function with 1 method)"
      ]
     },
     "execution_count": 4,
     "metadata": {},
     "output_type": "execute_result"
    }
   ],
   "source": [
    "function make_productity(T ,θ , ngoods)\n",
    "    \n",
    "    seed = 3281978\n",
    "    \n",
    "    ncntry = length(T)\n",
    "    \n",
    "    z = zeros(ngoods,ncntry)\n",
    "    \n",
    "    for cntry = 1:ncntry\n",
    "    \n",
    "        dist = Frechet(θ, T[cntry]^(1/θ))\n",
    "        # Ideally, it would be cool to potentially be able to pass as an argument\n",
    "        # the distibution for each country or something like that.\n",
    "    \n",
    "        z[:,cntry] = rand(MersenneTwister(seed + cntry), dist, ngoods, 1);\n",
    "        #I tried the rand! command (if modifies the argument),\n",
    "        # it did not work...seemed to rewrite everytime\n",
    "        # this thing looped through.\n",
    "        # MersenneTwister is the seed setter for the random number generator...\n",
    "        # works simmilar to matlab...takes an integer and then specifies\n",
    "    \n",
    "    end\n",
    "    \n",
    "    return z\n",
    "    \n",
    "end"
   ]
  },
  {
   "cell_type": "code",
   "execution_count": 8,
   "id": "91974267-6f10-441d-916e-8f92ce75c603",
   "metadata": {},
   "outputs": [
    {
     "data": {
      "text/plain": [
       "low_cost_supplier (generic function with 1 method)"
      ]
     },
     "execution_count": 8,
     "metadata": {},
     "output_type": "execute_result"
    }
   ],
   "source": [
    "function low_cost_supplier(z, w, τ)\n",
    "    \n",
    "    return p, source_country = findmin(marginal_cost(z, w, τ); dims = 2);\n",
    "    \n",
    "end"
   ]
  },
  {
   "cell_type": "code",
   "execution_count": 15,
   "id": "2bee7c29-3333-4bbf-b9f0-5696981801e2",
   "metadata": {},
   "outputs": [
    {
     "name": "stdout",
     "output_type": "stream",
     "text": [
      "  0.267778 seconds (30 allocations: 30.556 MiB, 0.80% gc time)\n",
      "  0.020707 seconds (17 allocations: 38.148 MiB)\n",
      "  0.036572 seconds (27 allocations: 24.797 MiB, 6.24% gc time)\n",
      "  0.018118 seconds (17 allocations: 38.148 MiB)\n",
      "  0.026651 seconds (27 allocations: 24.797 MiB)\n"
     ]
    }
   ],
   "source": [
    "tau_matrix = [1 1.5; 1.5 1]\n",
    "T = [1.0 2.0]\n",
    "w = [1.0 1.0]\n",
    "θ = 4.0\n",
    "\n",
    "ncntry = ndims(tau_matrix)\n",
    "ngoods = 1000000\n",
    "\n",
    "@time z = make_productity(T,θ,ngoods)\n",
    "# this is the slow part of the code, not the min part...\n",
    "\n",
    "price_index = zeros(ncntry)\n",
    "shares = zeros(ncntry,ncntry)\n",
    "source_prob = zeros(ncntry,ncntry)\n",
    "source_country = Array{CartesianIndex{2}}(undef, ngoods, ncntry)\n",
    "\n",
    "for cntry = 1:ncntry\n",
    "\n",
    "    @time p, sc = low_cost_supplier(z, w, tau_matrix[cntry,:]');\n",
    "    # find the min over marginal costs\n",
    "    # note that the tau_matrix returns a vector, not a row vector as I was anticipating\n",
    "    # so take the transpose to make it work.\n",
    "\n",
    "    @time (price_index[cntry], shares[cntry,:], source_prob[cntry,:]) = ces_shares(p, sc, 2.0);\n",
    "    # then this is set up so the row is the buyer...then you go across the columns\n",
    "    # and that is share of goods the home country buys from that country.\n",
    "    \n",
    "    source_country[:, cntry] = sc\n",
    "end"
   ]
  },
  {
   "cell_type": "code",
   "execution_count": 13,
   "id": "b24310d9-9d15-4b5f-9fdb-8dc384b87be8",
   "metadata": {},
   "outputs": [
    {
     "data": {
      "text/plain": [
       "2×2 Matrix{Float64}:\n",
       " 0.716508   0.283492\n",
       " 0.0899421  0.910058"
      ]
     },
     "execution_count": 13,
     "metadata": {},
     "output_type": "execute_result"
    }
   ],
   "source": [
    "shares"
   ]
  },
  {
   "cell_type": "code",
   "execution_count": 5,
   "id": "a7cd2be2-c5ab-4b25-a360-5ee6a9c01cad",
   "metadata": {},
   "outputs": [
    {
     "data": {
      "text/plain": [
       "4.0"
      ]
     },
     "execution_count": 5,
     "metadata": {},
     "output_type": "execute_result"
    }
   ],
   "source": [
    "tau_matrix = [1 1.5; 1.5 1]\n",
    "T = [1.0 2.0]\n",
    "w = [1.0 1.0]\n",
    "θ = 4.0"
   ]
  },
  {
   "cell_type": "code",
   "execution_count": 7,
   "id": "b09f6a74-b28e-4c4d-ae6b-ffb2056d83c7",
   "metadata": {},
   "outputs": [
    {
     "data": {
      "text/plain": [
       "2-element Vector{Float64}:\n",
       " 1.0\n",
       " 1.5"
      ]
     },
     "execution_count": 7,
     "metadata": {},
     "output_type": "execute_result"
    }
   ],
   "source": [
    "tau_matrix[1,:]"
   ]
  },
  {
   "cell_type": "code",
   "execution_count": 74,
   "id": "a3924838-3013-42c4-aaf7-15ac5ab4b939",
   "metadata": {},
   "outputs": [
    {
     "data": {
      "image/png": "[encoded data removed]"
     },
     "execution_count": 74,
     "metadata": {},
     "output_type": "execute_result"
    }
   ],
   "source": [
    "p, ~ = low_cost_supplier(z, w, tau_matrix[1,:]);\n",
    "\n",
    "mc = marginal_cost(z, w, tau_matrix[1,:]');\n",
    "\n",
    "histogram(p, bins = 100, alpha = 0.5, color = \"dark blue\", label = \"traded prices\", xlabel = \"prices/marginal costs\")\n",
    "histogram!(mc[:,1], bins = 100, alpha = 0.5, color = \"red\", label = \"domestic marginal costs\")"
   ]
  },
  {
   "cell_type": "code",
   "execution_count": 298,
   "id": "ae3165eb-9f6d-4c92-ac5f-45abe2919941",
   "metadata": {},
   "outputs": [
    {
     "data": {
      "text/plain": [
       "labor_demand (generic function with 7 methods)"
      ]
     },
     "execution_count": 298,
     "metadata": {},
     "output_type": "execute_result"
    }
   ],
   "source": [
    "function labor_demand(source_country::Matrix{CartesianIndex{2}}, z::Matrix{Float64}, \n",
    "        w::Matrix{Float64}, τ::Matrix{Float64}, price_index::AbstractArray,\n",
    "        Q::AbstractArray, country::Int64, σ::Float64)\n",
    "    \n",
    "    destinations = Array{Bool}(undef, size(z))\n",
    "\n",
    "    for cntry = 1:ncntry\n",
    "        # This is the loop that conditions on the source country\n",
    "        # first fix a country...\n",
    "\n",
    "        destinations[:, cntry] = [ zzz[2] == country for zzz in source_country[:, cntry] ]\n",
    "        # this is different than the ces demand line. it says for a given country, go through \n",
    "        # each country low cost supplier and find the places where that given country is the\n",
    "        # low cost supplier. \n",
    "        # Then the destination country is a matrix of bools so indicating if country\n",
    "        # is the low cost supplier to those different (columns) destiation. \n",
    "        # really this is like from the exporter side....\n",
    "        \n",
    "    end\n",
    "    \n",
    "    mc = marginal_cost(z[:, country], w, τ[:, country]')\n",
    "    \n",
    "    lbr_dmnd = (1 ./ z[:, country]).*(mc ./ price_index').^(-σ).*Q' ./ ngoods\n",
    "        \n",
    "    return lbr_dmnd.*destinations\n",
    "    \n",
    "end"
   ]
  },
  {
   "cell_type": "code",
   "execution_count": 300,
   "id": "20c0e691-6687-406d-a144-91b96a43a871",
   "metadata": {},
   "outputs": [
    {
     "name": "stdout",
     "output_type": "stream",
     "text": [
      "  240.649 ms (66 allocations: 95.37 MiB)\n"
     ]
    },
    {
     "data": {
      "image/png": "[encoded data removed]"
     },
     "execution_count": 300,
     "metadata": {},
     "output_type": "execute_result"
    }
   ],
   "source": [
    "@btime ld = labor_demand(source_country, z, w, tau_matrix, price_index, [1 ;1], 1, 2.0);\n",
    "\n",
    "lall = sum(ld[ld[:,1] .> 0.0, :], dims = 2)\n",
    "\n",
    "lexp = sum(ld[ld[:,2] .> 0.0, :], dims = 2)\n",
    "\n",
    "histogram(log.(lall), bins = 100, alpha = 0.25, color = \"dark blue\", xlabel = \"log labor demand\", label = \"all goods\")\n",
    "\n",
    "histogram!(log.(lexp), bins = 100, alpha = 0.5, color = \"red\", label = \"exported goods\")"
   ]
  },
  {
   "cell_type": "code",
   "execution_count": 304,
   "id": "5b2ffdc2-93dd-4d30-a167-ce1650886571",
   "metadata": {},
   "outputs": [
    {
     "data": {
      "text/plain": [
       " * Status: success\n",
       "\n",
       " * Candidate solution\n",
       "    Final objective value:     5.471433e-17\n",
       "\n",
       " * Found with\n",
       "    Algorithm:     BFGS\n",
       "\n",
       " * Convergence measures\n",
       "    |x - x'|               = 3.47e-07 ≰ 0.0e+00\n",
       "    |x - x'|/|x'|          = 3.47e-07 ≰ 0.0e+00\n",
       "    |f(x) - f(x')|         = 6.59e-14 ≰ 0.0e+00\n",
       "    |f(x) - f(x')|/|f(x')| = 1.20e+03 ≰ 0.0e+00\n",
       "    |g(x)|                 = 2.33e-09 ≤ 1.0e-08\n",
       "\n",
       " * Work counters\n",
       "    Seconds run:   0  (vs limit Inf)\n",
       "    Iterations:    16\n",
       "    f(x) calls:    53\n",
       "    ∇f(x) calls:   53\n"
      ]
     },
     "execution_count": 304,
     "metadata": {},
     "output_type": "execute_result"
    }
   ],
   "source": [
    "using Optim\n",
    "#https://github.com/JuliaNLSolvers/Optim.jl\n",
    "rosenbrock(x) =  (1.0 - x[1])^2 + 100.0 * (x[2] - x[1]^2)^2\n",
    "result = optimize(rosenbrock, zeros(2), BFGS())"
   ]
  },
  {
   "cell_type": "code",
   "execution_count": 302,
   "id": "a79f3edc-1ee0-4fe0-a9a4-965d9bb55228",
   "metadata": {},
   "outputs": [
    {
     "name": "stderr",
     "output_type": "stream",
     "text": [
      "\u001b[32m\u001b[1m    Updating\u001b[22m\u001b[39m registry at `~/.julia/registries/General`\n",
      "\u001b[32m\u001b[1m   Resolving\u001b[22m\u001b[39m package versions...\n",
      "\u001b[32m\u001b[1m   Installed\u001b[22m\u001b[39m ArrayInterface ───────── v3.1.11\n",
      "\u001b[32m\u001b[1m   Installed\u001b[22m\u001b[39m DiffRules ────────────── v1.0.2\n",
      "\u001b[32m\u001b[1m   Installed\u001b[22m\u001b[39m FiniteDiff ───────────── v2.8.0\n",
      "\u001b[32m\u001b[1m   Installed\u001b[22m\u001b[39m PositiveFactorizations ─ v0.2.4\n",
      "\u001b[32m\u001b[1m   Installed\u001b[22m\u001b[39m IfElse ───────────────── v0.1.0\n",
      "\u001b[32m\u001b[1m   Installed\u001b[22m\u001b[39m Static ───────────────── v0.2.4\n",
      "\u001b[32m\u001b[1m   Installed\u001b[22m\u001b[39m ForwardDiff ──────────── v0.10.18\n",
      "\u001b[32m\u001b[1m   Installed\u001b[22m\u001b[39m Optim ────────────────── v1.3.0\n",
      "\u001b[32m\u001b[1m   Installed\u001b[22m\u001b[39m UnPack ───────────────── v1.0.2\n",
      "\u001b[32m\u001b[1m   Installed\u001b[22m\u001b[39m NLSolversBase ────────── v7.8.0\n",
      "\u001b[32m\u001b[1m   Installed\u001b[22m\u001b[39m DiffResults ──────────── v1.0.3\n",
      "\u001b[32m\u001b[1m   Installed\u001b[22m\u001b[39m LineSearches ─────────── v7.1.1\n",
      "\u001b[32m\u001b[1m   Installed\u001b[22m\u001b[39m Parameters ───────────── v0.12.2\n",
      "\u001b[32m\u001b[1m   Installed\u001b[22m\u001b[39m CommonSubexpressions ─── v0.3.0\n",
      "\u001b[32m\u001b[1m    Updating\u001b[22m\u001b[39m `~/.julia/environments/v1.6/Project.toml`\n",
      " \u001b[90m [429524aa] \u001b[39m\u001b[92m+ Optim v1.3.0\u001b[39m\n",
      "\u001b[32m\u001b[1m    Updating\u001b[22m\u001b[39m `~/.julia/environments/v1.6/Manifest.toml`\n",
      " \u001b[90m [4fba245c] \u001b[39m\u001b[92m+ ArrayInterface v3.1.11\u001b[39m\n",
      " \u001b[90m [bbf7d656] \u001b[39m\u001b[92m+ CommonSubexpressions v0.3.0\u001b[39m\n",
      " \u001b[90m [163ba53b] \u001b[39m\u001b[92m+ DiffResults v1.0.3\u001b[39m\n",
      " \u001b[90m [b552c78f] \u001b[39m\u001b[92m+ DiffRules v1.0.2\u001b[39m\n",
      " \u001b[90m [6a86dc24] \u001b[39m\u001b[92m+ FiniteDiff v2.8.0\u001b[39m\n",
      " \u001b[90m [f6369f11] \u001b[39m\u001b[92m+ ForwardDiff v0.10.18\u001b[39m\n",
      " \u001b[90m [615f187c] \u001b[39m\u001b[92m+ IfElse v0.1.0\u001b[39m\n",
      " \u001b[90m [d3d80556] \u001b[39m\u001b[92m+ LineSearches v7.1.1\u001b[39m\n",
      " \u001b[90m [d41bc354] \u001b[39m\u001b[92m+ NLSolversBase v7.8.0\u001b[39m\n",
      " \u001b[90m [429524aa] \u001b[39m\u001b[92m+ Optim v1.3.0\u001b[39m\n",
      " \u001b[90m [d96e819e] \u001b[39m\u001b[92m+ Parameters v0.12.2\u001b[39m\n",
      " \u001b[90m [85a6dd25] \u001b[39m\u001b[92m+ PositiveFactorizations v0.2.4\u001b[39m\n",
      " \u001b[90m [aedffcd0] \u001b[39m\u001b[92m+ Static v0.2.4\u001b[39m\n",
      " \u001b[90m [3a884ed6] \u001b[39m\u001b[92m+ UnPack v1.0.2\u001b[39m\n",
      "\u001b[32m\u001b[1mPrecompiling\u001b[22m\u001b[39m project...\n",
      "\u001b[32m  ✓ \u001b[39m\u001b[90mUnPack\u001b[39m\n",
      "\u001b[32m  ✓ \u001b[39m\u001b[90mIfElse\u001b[39m\n",
      "\u001b[32m  ✓ \u001b[39m\u001b[90mPositiveFactorizations\u001b[39m\n",
      "\u001b[32m  ✓ \u001b[39m\u001b[90mDiffRules\u001b[39m\n",
      "\u001b[32m  ✓ \u001b[39m\u001b[90mParameters\u001b[39m\n",
      "\u001b[32m  ✓ \u001b[39m\u001b[90mCommonSubexpressions\u001b[39m\n",
      "\u001b[32m  ✓ \u001b[39m\u001b[90mDiffResults\u001b[39m\n",
      "\u001b[32m  ✓ \u001b[39m\u001b[90mStatic\u001b[39m\n",
      "\u001b[32m  ✓ \u001b[39m\u001b[90mArrayInterface\u001b[39m\n",
      "\u001b[32m  ✓ \u001b[39m\u001b[90mFiniteDiff\u001b[39m\n",
      "\u001b[32m  ✓ \u001b[39m\u001b[90mForwardDiff\u001b[39m\n",
      "\u001b[32m  ✓ \u001b[39m\u001b[90mNLSolversBase\u001b[39m\n",
      "\u001b[32m  ✓ \u001b[39m\u001b[90mLineSearches\u001b[39m\n",
      "\u001b[32m  ✓ \u001b[39mOptim\n",
      "14 dependencies successfully precompiled in 20 seconds (133 already precompiled)\n"
     ]
    }
   ],
   "source": [
    "import Pkg; Pkg.add(\"Optim\")"
   ]
  },
  {
   "cell_type": "code",
   "execution_count": null,
   "id": "82e0a70a-c249-47dc-9a77-aa6e54e9ce66",
   "metadata": {},
   "outputs": [],
   "source": []
  }
 ],
 "metadata": {
  "kernelspec": {
   "display_name": "Julia 1.6.0",
   "language": "julia",
   "name": "julia-1.6"
  },
  "language_info": {
   "file_extension": ".jl",
   "mimetype": "application/julia",
   "name": "julia",
   "version": "1.6.0"
  }
 },
 "nbformat": 4,
 "nbformat_minor": 5
}
